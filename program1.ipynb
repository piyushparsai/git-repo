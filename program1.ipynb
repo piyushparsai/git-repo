{
  "nbformat": 4,
  "nbformat_minor": 0,
  "metadata": {
    "colab": {
      "provenance": [],
      "authorship_tag": "ABX9TyMnPStbTlaqzbc/M/+Ve9uj",
      "include_colab_link": true
    },
    "kernelspec": {
      "name": "python3",
      "display_name": "Python 3"
    },
    "language_info": {
      "name": "python"
    }
  },
  "cells": [
    {
      "cell_type": "markdown",
      "metadata": {
        "id": "view-in-github",
        "colab_type": "text"
      },
      "source": [
        "<a href=\"https://colab.research.google.com/github/piyushparsai/git-repo/blob/main/program1.ipynb\" target=\"_parent\"><img src=\"https://colab.research.google.com/assets/colab-badge.svg\" alt=\"Open In Colab\"/></a>"
      ]
    },
    {
      "cell_type": "code",
      "execution_count": null,
      "metadata": {
        "id": "C_iPFmu0vW7b"
      },
      "outputs": [],
      "source": [
        "p=100\n",
        "r=5\n",
        "t=10\n",
        "i=(p*r*t)/100\n",
        "print(i)"
      ]
    },
    {
      "cell_type": "code",
      "source": [
        "p,r,t = 1000,7,3\n",
        "i=(p*r*t)/100\n",
        "print(p, r, t, i)"
      ],
      "metadata": {
        "id": "DuYroGt8x14-"
      },
      "execution_count": null,
      "outputs": []
    },
    {
      "cell_type": "code",
      "source": [
        "p=1\n",
        "q='1'\n",
        "print('p', id(p), type(p))\n",
        "print('q', id(q), type(q))\n",
        "\n",
        "s=1\n",
        "r='1'\n",
        "print('s', id(s), type(s))\n",
        "print('r', id(r), type(r))\n"
      ],
      "metadata": {
        "id": "GUofhYg2zNnR"
      },
      "execution_count": null,
      "outputs": []
    },
    {
      "cell_type": "markdown",
      "source": [
        "Mutable and Immutable variables, id of mutable variables gets changed"
      ],
      "metadata": {
        "id": "7K069L4KzfDL"
      }
    },
    {
      "cell_type": "code",
      "source": [
        "print(type(100.0))"
      ],
      "metadata": {
        "id": "Lj0EQmai1lHZ"
      },
      "execution_count": null,
      "outputs": []
    },
    {
      "cell_type": "code",
      "source": [
        "a, b = 50, 100\n",
        "print ('a = ', a, 'b =', b)\n",
        "a, b = b,  a\n",
        "print ('a = ', a, 'b =', b)"
      ],
      "metadata": {
        "id": "DvDlIMqD2APk"
      },
      "execution_count": null,
      "outputs": []
    },
    {
      "cell_type": "markdown",
      "source": [
        "# This section is for operators"
      ],
      "metadata": {
        "id": "kPHl3X8R25d_"
      }
    },
    {
      "cell_type": "code",
      "source": [
        "print(5/2)\n",
        "print(5//2)\n",
        "11%5"
      ],
      "metadata": {
        "id": "JlcR8Q2t2tpk"
      },
      "execution_count": null,
      "outputs": []
    },
    {
      "cell_type": "code",
      "source": [
        "2**5"
      ],
      "metadata": {
        "id": "-yGvviDP3ZT_"
      },
      "execution_count": null,
      "outputs": []
    },
    {
      "cell_type": "code",
      "source": [
        "print(5 == 5)\n",
        "print(5 != 4)\n",
        "print(5 != 5)\n",
        "print(5 < 4)\n",
        "print(5 > 5)"
      ],
      "metadata": {
        "id": "38G0LEOr3lf9"
      },
      "execution_count": null,
      "outputs": []
    },
    {
      "cell_type": "markdown",
      "source": [
        "## Control Structures"
      ],
      "metadata": {
        "id": "6ZXn9kgs8q5H"
      }
    },
    {
      "cell_type": "code",
      "source": [
        "name=input('Name: ')\n",
        "print('Good Morning', name, '!')"
      ],
      "metadata": {
        "colab": {
          "base_uri": "https://localhost:8080/"
        },
        "id": "kvTQ47wf9rgc",
        "outputId": "8569bd79-a57e-4d08-91e4-3ee25a715e5f"
      },
      "execution_count": null,
      "outputs": [
        {
          "output_type": "stream",
          "name": "stdout",
          "text": [
            "Name: Piyush\n",
            "Good Morning  Piyush !\n"
          ]
        }
      ]
    },
    {
      "cell_type": "code",
      "source": [
        "a = input('a = ')\n",
        "b = input('b = ')\n",
        "\n",
        "print(a+b)"
      ],
      "metadata": {
        "colab": {
          "base_uri": "https://localhost:8080/"
        },
        "id": "O6nbU60S9-J_",
        "outputId": "be7e8ac0-2e76-424b-eb1b-08a60e03aaf7"
      },
      "execution_count": null,
      "outputs": [
        {
          "output_type": "stream",
          "name": "stdout",
          "text": [
            "a = 1\n",
            "b = 20\n",
            "120\n"
          ]
        }
      ]
    },
    {
      "cell_type": "code",
      "source": [
        "p = int(input('Principle '))\n",
        "t = int(input('Time '))\n",
        "r= 5\n",
        "if(t > 2):\n",
        "  r = 7\n",
        "i = (p * r * t)/100\n",
        "print('Interest = ', i)"
      ],
      "metadata": {
        "colab": {
          "base_uri": "https://localhost:8080/"
        },
        "id": "tn2X04Hi_Kmj",
        "outputId": "5f65599d-8360-4ace-fcf8-0a8768cf2491"
      },
      "execution_count": null,
      "outputs": [
        {
          "output_type": "stream",
          "name": "stdout",
          "text": [
            "Principle 1000\n",
            "Time 2\n",
            "Interest =  100.0\n"
          ]
        }
      ]
    },
    {
      "cell_type": "code",
      "source": [
        "if 1:\n",
        "  print ('true')"
      ],
      "metadata": {
        "id": "Eql3k4qkAsJh",
        "outputId": "fad57274-073a-4a05-aba8-2ac27238fe41",
        "colab": {
          "base_uri": "https://localhost:8080/"
        }
      },
      "execution_count": null,
      "outputs": [
        {
          "output_type": "stream",
          "name": "stdout",
          "text": [
            "true\n"
          ]
        }
      ]
    },
    {
      "cell_type": "code",
      "source": [
        "a=100\n",
        "b=120\n",
        "c=130\n",
        "\n",
        "print(a) if (a > b) else print(b)\n",
        "print(a) if (a > b) else print(b) if (b  > c) else print(c) "
      ],
      "metadata": {
        "colab": {
          "base_uri": "https://localhost:8080/"
        },
        "id": "GwKXg71oCebw",
        "outputId": "fc7c75a8-2638-463e-f509-11c94118c635"
      },
      "execution_count": null,
      "outputs": [
        {
          "output_type": "stream",
          "name": "stdout",
          "text": [
            "120\n",
            "130\n"
          ]
        }
      ]
    },
    {
      "cell_type": "markdown",
      "source": [
        "Loop"
      ],
      "metadata": {
        "id": "4UGX92PB2N_R"
      }
    },
    {
      "cell_type": "markdown",
      "source": [
        "# 12-Jan-22\n"
      ],
      "metadata": {
        "id": "hNumvNwL2L2F"
      }
    },
    {
      "cell_type": "code",
      "source": [
        "for i in range(10):\n",
        "  print(i)"
      ],
      "metadata": {
        "colab": {
          "base_uri": "https://localhost:8080/"
        },
        "id": "hItniyGT2XRE",
        "outputId": "92f8a786-3232-4470-e442-703dba3e817f"
      },
      "execution_count": null,
      "outputs": [
        {
          "output_type": "stream",
          "name": "stdout",
          "text": [
            "0\n",
            "1\n",
            "2\n",
            "3\n",
            "4\n",
            "5\n",
            "6\n",
            "7\n",
            "8\n",
            "9\n"
          ]
        }
      ]
    },
    {
      "cell_type": "code",
      "source": [
        "i = 0.0\n",
        "while i < 10.0:\n",
        "  print ( i)\n",
        "  i += 0.10"
      ],
      "metadata": {
        "colab": {
          "base_uri": "https://localhost:8080/"
        },
        "id": "2nwDrrD727j3",
        "outputId": "ba0874a9-ef1d-45da-8c85-69cbbff0a68a"
      },
      "execution_count": null,
      "outputs": [
        {
          "output_type": "stream",
          "name": "stdout",
          "text": [
            "0.0\n",
            "0.1\n",
            "0.2\n",
            "0.30000000000000004\n",
            "0.4\n",
            "0.5\n",
            "0.6\n",
            "0.7\n",
            "0.7999999999999999\n",
            "0.8999999999999999\n",
            "0.9999999999999999\n",
            "1.0999999999999999\n",
            "1.2\n",
            "1.3\n",
            "1.4000000000000001\n",
            "1.5000000000000002\n",
            "1.6000000000000003\n",
            "1.7000000000000004\n",
            "1.8000000000000005\n",
            "1.9000000000000006\n",
            "2.0000000000000004\n",
            "2.1000000000000005\n",
            "2.2000000000000006\n",
            "2.3000000000000007\n",
            "2.400000000000001\n",
            "2.500000000000001\n",
            "2.600000000000001\n",
            "2.700000000000001\n",
            "2.800000000000001\n",
            "2.9000000000000012\n",
            "3.0000000000000013\n",
            "3.1000000000000014\n",
            "3.2000000000000015\n",
            "3.3000000000000016\n",
            "3.4000000000000017\n",
            "3.5000000000000018\n",
            "3.600000000000002\n",
            "3.700000000000002\n",
            "3.800000000000002\n",
            "3.900000000000002\n",
            "4.000000000000002\n",
            "4.100000000000001\n",
            "4.200000000000001\n",
            "4.300000000000001\n",
            "4.4\n",
            "4.5\n",
            "4.6\n",
            "4.699999999999999\n",
            "4.799999999999999\n",
            "4.899999999999999\n",
            "4.999999999999998\n",
            "5.099999999999998\n",
            "5.1999999999999975\n",
            "5.299999999999997\n",
            "5.399999999999997\n",
            "5.4999999999999964\n",
            "5.599999999999996\n",
            "5.699999999999996\n",
            "5.799999999999995\n",
            "5.899999999999995\n",
            "5.999999999999995\n",
            "6.099999999999994\n",
            "6.199999999999994\n",
            "6.299999999999994\n",
            "6.399999999999993\n",
            "6.499999999999993\n",
            "6.5999999999999925\n",
            "6.699999999999992\n",
            "6.799999999999992\n",
            "6.8999999999999915\n",
            "6.999999999999991\n",
            "7.099999999999991\n",
            "7.19999999999999\n",
            "7.29999999999999\n",
            "7.39999999999999\n",
            "7.499999999999989\n",
            "7.599999999999989\n",
            "7.699999999999989\n",
            "7.799999999999988\n",
            "7.899999999999988\n",
            "7.999999999999988\n",
            "8.099999999999987\n",
            "8.199999999999987\n",
            "8.299999999999986\n",
            "8.399999999999986\n",
            "8.499999999999986\n",
            "8.599999999999985\n",
            "8.699999999999985\n",
            "8.799999999999985\n",
            "8.899999999999984\n",
            "8.999999999999984\n",
            "9.099999999999984\n",
            "9.199999999999983\n",
            "9.299999999999983\n",
            "9.399999999999983\n",
            "9.499999999999982\n",
            "9.599999999999982\n",
            "9.699999999999982\n",
            "9.799999999999981\n",
            "9.89999999999998\n",
            "9.99999999999998\n"
          ]
        }
      ]
    },
    {
      "cell_type": "code",
      "source": [
        "number = int(input ('Enter a number'))\n",
        "for i in range(1,11):\n",
        "  print(number, 'x', i, '=', number * i)"
      ],
      "metadata": {
        "colab": {
          "base_uri": "https://localhost:8080/"
        },
        "id": "7KC6gsl74RE-",
        "outputId": "cd4c9024-721d-4e77-d6f4-91feade278c5"
      },
      "execution_count": null,
      "outputs": [
        {
          "output_type": "stream",
          "name": "stdout",
          "text": [
            "Enter a number12\n",
            "12 x 1 = 12\n",
            "12 x 2 = 24\n",
            "12 x 3 = 36\n",
            "12 x 4 = 48\n",
            "12 x 5 = 60\n",
            "12 x 6 = 72\n",
            "12 x 7 = 84\n",
            "12 x 8 = 96\n",
            "12 x 9 = 108\n",
            "12 x 10 = 120\n"
          ]
        }
      ]
    },
    {
      "cell_type": "code",
      "source": [],
      "metadata": {
        "id": "q_uLHjkM597y"
      },
      "execution_count": null,
      "outputs": []
    },
    {
      "cell_type": "code",
      "source": [
        "print(number, 'x', i, '= ', (number*i), '')"
      ],
      "metadata": {
        "colab": {
          "base_uri": "https://localhost:8080/"
        },
        "id": "me3FoCzS58Ha",
        "outputId": "af4d9f37-c9fb-4ea7-cf39-cc96dff26042"
      },
      "execution_count": null,
      "outputs": [
        {
          "output_type": "stream",
          "name": "stdout",
          "text": [
            "12 x 10 =  120 \n"
          ]
        }
      ]
    },
    {
      "cell_type": "code",
      "source": [
        "for i in range(1,51):\n",
        "  isFuzz = i%3 == 0\n",
        "  isBuzz = isFuzz and i%7 == 0\n",
        "  if (isBuzz):\n",
        "    print('Buzz') \n",
        "  elif (isFuzz):\n",
        "    print('Fuzz')\n",
        "  print(i)"
      ],
      "metadata": {
        "colab": {
          "base_uri": "https://localhost:8080/"
        },
        "id": "Ll1OgLBs7LxN",
        "outputId": "f22022e9-4ae4-4adf-c2ee-ebc8f1ca876f"
      },
      "execution_count": null,
      "outputs": [
        {
          "output_type": "stream",
          "name": "stdout",
          "text": [
            "1\n",
            "2\n",
            "Fuzz\n",
            "3\n",
            "4\n",
            "5\n",
            "Fuzz\n",
            "6\n",
            "7\n",
            "8\n",
            "Fuzz\n",
            "9\n",
            "10\n",
            "11\n",
            "Fuzz\n",
            "12\n",
            "13\n",
            "14\n",
            "Fuzz\n",
            "15\n",
            "16\n",
            "17\n",
            "Fuzz\n",
            "18\n",
            "19\n",
            "20\n",
            "Buzz\n",
            "21\n",
            "22\n",
            "23\n",
            "Fuzz\n",
            "24\n",
            "25\n",
            "26\n",
            "Fuzz\n",
            "27\n",
            "28\n",
            "29\n",
            "Fuzz\n",
            "30\n",
            "31\n",
            "32\n",
            "Fuzz\n",
            "33\n",
            "34\n",
            "35\n",
            "Fuzz\n",
            "36\n",
            "37\n",
            "38\n",
            "Fuzz\n",
            "39\n",
            "40\n",
            "41\n",
            "Buzz\n",
            "42\n",
            "43\n",
            "44\n",
            "Fuzz\n",
            "45\n",
            "46\n",
            "47\n",
            "Fuzz\n",
            "48\n",
            "49\n",
            "50\n"
          ]
        }
      ]
    },
    {
      "cell_type": "code",
      "source": [
        "def gcd(a,b):\n",
        "  \"Find greates common divisor of two numbers\"\n",
        "  while(a != 0):\n",
        "    a, b = b%a, a\n",
        "  return b"
      ],
      "metadata": {
        "id": "WAUjN3AM_M0T"
      },
      "execution_count": null,
      "outputs": []
    },
    {
      "cell_type": "code",
      "source": [
        "gcd.__doc__\n",
        "print.__doc__"
      ],
      "metadata": {
        "colab": {
          "base_uri": "https://localhost:8080/",
          "height": 70
        },
        "id": "QOfXw7m-AAv4",
        "outputId": "b1449a8a-a29d-42a8-f4ad-0a01415b6133"
      },
      "execution_count": null,
      "outputs": [
        {
          "output_type": "execute_result",
          "data": {
            "text/plain": [
              "\"print(value, ..., sep=' ', end='\\\\n', file=sys.stdout, flush=False)\\n\\nPrints the values to a stream, or to sys.stdout by default.\\nOptional keyword arguments:\\nfile:  a file-like object (stream); defaults to the current sys.stdout.\\nsep:   string inserted between values, default a space.\\nend:   string appended after the last value, default a newline.\\nflush: whether to forcibly flush the stream.\""
            ],
            "application/vnd.google.colaboratory.intrinsic+json": {
              "type": "string"
            }
          },
          "metadata": {},
          "execution_count": 30
        }
      ]
    },
    {
      "cell_type": "code",
      "source": [
        "def sum(a, b, c):\n",
        "  'Add three numbers and return the sum'\n",
        "  return (int(a) + int(b) + int(c))\n"
      ],
      "metadata": {
        "id": "5Z7pZbtuA5gK"
      },
      "execution_count": null,
      "outputs": []
    },
    {
      "cell_type": "code",
      "source": [
        "print(sum.__doc__)\n",
        "print(sum(4,2,6))"
      ],
      "metadata": {
        "colab": {
          "base_uri": "https://localhost:8080/"
        },
        "id": "iKqBxQ3sBNpP",
        "outputId": "618a5767-4838-4628-c863-d1eaae8ec8e9"
      },
      "execution_count": null,
      "outputs": [
        {
          "output_type": "stream",
          "name": "stdout",
          "text": [
            "Add three numbers and return the sum\n",
            "12\n"
          ]
        }
      ]
    },
    {
      "cell_type": "code",
      "source": [
        "def sum():\n",
        "  '''\n",
        "  Calculate sum of entered numbers.\n",
        "  Enter x to complete\n",
        "  '''\n",
        "  sum = 0\n",
        "  while True:\n",
        "    s = input('Enter a number: ')\n",
        "    if(s == 'x'):\n",
        "      break;\n",
        "    sum = sum + int(s)\n",
        "  return sum"
      ],
      "metadata": {
        "id": "k6uNNvYMBhvQ"
      },
      "execution_count": null,
      "outputs": []
    },
    {
      "cell_type": "code",
      "source": [
        "\n",
        "print(sum())"
      ],
      "metadata": {
        "colab": {
          "base_uri": "https://localhost:8080/"
        },
        "id": "6ws1WPwrDQb3",
        "outputId": "c1a45e71-4101-49b7-8ff0-497b31d9a75f"
      },
      "execution_count": null,
      "outputs": [
        {
          "output_type": "stream",
          "name": "stdout",
          "text": [
            "Enter a number1\n",
            "Enter a number67\n",
            "Enter a number32\n",
            "Enter a numberx\n",
            "100\n"
          ]
        }
      ]
    },
    {
      "cell_type": "markdown",
      "source": [
        "Return multiple values from function"
      ],
      "metadata": {
        "id": "Jud2i1LtEGRl"
      }
    },
    {
      "cell_type": "code",
      "source": [
        "def sumdiff(a, b):\n",
        "  'Return both sum and difference of two numbers as a touple'\n",
        "  return (a+b, a-b)\n",
        "\n",
        "print(sumdiff(30,6))"
      ],
      "metadata": {
        "colab": {
          "base_uri": "https://localhost:8080/"
        },
        "id": "kHkWURSrEKO2",
        "outputId": "4b8dd72e-4ae1-44dd-a154-9580cfd3351d"
      },
      "execution_count": null,
      "outputs": [
        {
          "output_type": "stream",
          "name": "stdout",
          "text": [
            "(36, 24)\n"
          ]
        }
      ]
    },
    {
      "cell_type": "code",
      "source": [
        "def myrange(stop, start = 0, step = 1):\n",
        "  i = start\n",
        "  while (i < stop):\n",
        "    print(i)\n",
        "    i += step\n",
        "  return"
      ],
      "metadata": {
        "id": "vSLZ635nE4bG"
      },
      "execution_count": null,
      "outputs": []
    },
    {
      "cell_type": "code",
      "source": [
        "myrange(11,1,2)"
      ],
      "metadata": {
        "colab": {
          "base_uri": "https://localhost:8080/"
        },
        "id": "3oqvxuKhFRLe",
        "outputId": "2321d2e2-ff28-4bde-fc1b-86512bde9962"
      },
      "execution_count": null,
      "outputs": [
        {
          "output_type": "stream",
          "name": "stdout",
          "text": [
            "1\n",
            "3\n",
            "5\n",
            "7\n",
            "9\n"
          ]
        }
      ]
    },
    {
      "cell_type": "code",
      "source": [
        "def profile():\n",
        "  return 18, 5.5, \"Hello\""
      ],
      "metadata": {
        "id": "_OEuedkoGNnV"
      },
      "execution_count": null,
      "outputs": []
    },
    {
      "cell_type": "code",
      "source": [],
      "metadata": {
        "id": "BajTASPiG11q"
      },
      "execution_count": null,
      "outputs": []
    },
    {
      "cell_type": "code",
      "source": [
        "age, hight, message = profile()\n",
        "print (message)"
      ],
      "metadata": {
        "colab": {
          "base_uri": "https://localhost:8080/"
        },
        "id": "ZxeU3wlRGUfy",
        "outputId": "9d581de4-669a-4a78-a715-1be3022913e6"
      },
      "execution_count": null,
      "outputs": [
        {
          "output_type": "stream",
          "name": "stdout",
          "text": [
            "Hello\n"
          ]
        }
      ]
    },
    {
      "cell_type": "code",
      "source": [],
      "metadata": {
        "id": "hoR9D1-kG3NR"
      },
      "execution_count": null,
      "outputs": []
    },
    {
      "cell_type": "markdown",
      "source": [
        "strings"
      ],
      "metadata": {
        "id": "L46Q3rYVG7kW"
      }
    },
    {
      "cell_type": "code",
      "source": [
        "s = '0123456789'\n",
        "# print(s[::])\n",
        "# print(s[3:7])\n",
        "# print(s[::2])\n",
        "# print(s[-6:-1])\n",
        "# print(s[-2:-6:-1])\n",
        "print(s[4:-2:1])\n",
        "\n",
        "print(s[::-2])"
      ],
      "metadata": {
        "colab": {
          "base_uri": "https://localhost:8080/"
        },
        "id": "AjkMf6r9G-Z0",
        "outputId": "5004db1c-d259-42f5-9200-6c6f3079ab4e"
      },
      "execution_count": null,
      "outputs": [
        {
          "output_type": "stream",
          "name": "stdout",
          "text": [
            "4567\n",
            "97531\n"
          ]
        }
      ]
    },
    {
      "cell_type": "code",
      "source": [
        "print(s[2::-1])"
      ],
      "metadata": {
        "colab": {
          "base_uri": "https://localhost:8080/"
        },
        "id": "uFJoOfizKoev",
        "outputId": "9a3cf457-2100-466b-d26c-1af3d54a37ac"
      },
      "execution_count": null,
      "outputs": [
        {
          "output_type": "stream",
          "name": "stdout",
          "text": [
            "210\n"
          ]
        }
      ]
    },
    {
      "cell_type": "code",
      "source": [
        "if s.isdigit():\n",
        "  snum = int(s)\n",
        "print (type(s), s)\n",
        "print (type(snum), snum)"
      ],
      "metadata": {
        "colab": {
          "base_uri": "https://localhost:8080/"
        },
        "id": "q1CiV6EnNGby",
        "outputId": "8b7defbf-9c7f-4ea9-ba7e-24238c81c9e2"
      },
      "execution_count": null,
      "outputs": [
        {
          "output_type": "stream",
          "name": "stdout",
          "text": [
            "<class 'str'> 0123456789\n",
            "<class 'int'> 123456789\n"
          ]
        }
      ]
    }
  ]
}
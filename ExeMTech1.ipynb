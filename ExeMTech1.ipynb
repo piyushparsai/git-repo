{
  "nbformat": 4,
  "nbformat_minor": 0,
  "metadata": {
    "colab": {
      "provenance": [],
      "include_colab_link": true
    },
    "kernelspec": {
      "name": "python3",
      "display_name": "Python 3"
    },
    "language_info": {
      "name": "python"
    }
  },
  "cells": [
    {
      "cell_type": "markdown",
      "metadata": {
        "id": "view-in-github",
        "colab_type": "text"
      },
      "source": [
        "<a href=\"https://colab.research.google.com/github/piyushparsai/git-repo/blob/main/ExeMTech1.ipynb\" target=\"_parent\"><img src=\"https://colab.research.google.com/assets/colab-badge.svg\" alt=\"Open In Colab\"/></a>"
      ]
    },
    {
      "cell_type": "code",
      "execution_count": null,
      "metadata": {
        "colab": {
          "base_uri": "https://localhost:8080/"
        },
        "id": "Yiees0CGvaYG",
        "outputId": "f3a154d9-d726-4625-cdfa-21882e8c2d8c"
      },
      "outputs": [
        {
          "output_type": "stream",
          "name": "stdout",
          "text": [
            "11534080\n",
            "<class 'int'>\n",
            "100 5 10 50.0\n",
            "140465534747120\n",
            "<class 'int'>\n",
            "5000 7 5 1750.0\n",
            "<class 'float'>\n"
          ]
        }
      ],
      "source": [
        "p,r,t  = 100,5,10\n",
        "print(id(p))\n",
        "print(type(p))\n",
        "si = ( p * r * t)/100\n",
        "print(p,r,t,si)\n",
        "p,r,t  = 5000,7,5\n",
        "print(id(p))\n",
        "print(type(p))\n",
        "si = ( p * r * t)/100\n",
        "print(p,r,t,si)\n",
        "print(type(100.00))\n",
        "\n",
        "#this prog calcluated SI"
      ]
    },
    {
      "cell_type": "markdown",
      "source": [],
      "metadata": {
        "id": "RygTI3ud3HGu"
      }
    },
    {
      "cell_type": "code",
      "source": [],
      "metadata": {
        "id": "dDVNXw9XxLYM"
      },
      "execution_count": null,
      "outputs": []
    },
    {
      "cell_type": "code",
      "source": [
        "temp  = 12.45\n",
        "print(type(temp))"
      ],
      "metadata": {
        "colab": {
          "base_uri": "https://localhost:8080/"
        },
        "id": "Tz2poSEc1iCh",
        "outputId": "8f25263b-b2a9-470e-8263-4ab24021ac28"
      },
      "execution_count": null,
      "outputs": [
        {
          "output_type": "stream",
          "name": "stdout",
          "text": [
            "<class 'float'>\n"
          ]
        }
      ]
    },
    {
      "cell_type": "code",
      "source": [
        "a , b = 100 , 50\n",
        "print(a,b)\n",
        "a,b = b,a\n",
        "print(a,b)"
      ],
      "metadata": {
        "colab": {
          "base_uri": "https://localhost:8080/"
        },
        "id": "ybd2As8T19Jj",
        "outputId": "6f84837a-f0ae-4e53-f3bc-1b83bd717895"
      },
      "execution_count": null,
      "outputs": [
        {
          "output_type": "stream",
          "name": "stdout",
          "text": [
            "100 50\n",
            "50 100\n"
          ]
        }
      ]
    },
    {
      "cell_type": "markdown",
      "source": [
        "This is just a text\n",
        "This sections discusses operators\n"
      ],
      "metadata": {
        "id": "3szZ6zby2U9H"
      }
    },
    {
      "cell_type": "code",
      "source": [
        "10 + 12"
      ],
      "metadata": {
        "colab": {
          "base_uri": "https://localhost:8080/"
        },
        "id": "TpC4tWen27JM",
        "outputId": "e4ce1813-e329-4617-bcae-8b45dd349b21"
      },
      "execution_count": null,
      "outputs": [
        {
          "output_type": "execute_result",
          "data": {
            "text/plain": [
              "22"
            ]
          },
          "metadata": {},
          "execution_count": 17
        }
      ]
    },
    {
      "cell_type": "code",
      "source": [
        "10/2"
      ],
      "metadata": {
        "colab": {
          "base_uri": "https://localhost:8080/"
        },
        "id": "zbou36Jt3DSv",
        "outputId": "9fc543e2-51f1-4aad-c532-ff906176fe80"
      },
      "execution_count": null,
      "outputs": [
        {
          "output_type": "execute_result",
          "data": {
            "text/plain": [
              "5.0"
            ]
          },
          "metadata": {},
          "execution_count": 18
        }
      ]
    },
    {
      "cell_type": "code",
      "source": [
        "11/2"
      ],
      "metadata": {
        "colab": {
          "base_uri": "https://localhost:8080/"
        },
        "id": "esB4RHVS3HvY",
        "outputId": "7f4c44ad-1cb1-4ce2-ffca-a9de585c1764"
      },
      "execution_count": null,
      "outputs": [
        {
          "output_type": "execute_result",
          "data": {
            "text/plain": [
              "5.5"
            ]
          },
          "metadata": {},
          "execution_count": 19
        }
      ]
    },
    {
      "cell_type": "code",
      "source": [
        "11//2"
      ],
      "metadata": {
        "colab": {
          "base_uri": "https://localhost:8080/"
        },
        "id": "IczztfQw3Kzq",
        "outputId": "282a1971-429c-4b7b-f888-16811530d4a0"
      },
      "execution_count": null,
      "outputs": [
        {
          "output_type": "execute_result",
          "data": {
            "text/plain": [
              "5"
            ]
          },
          "metadata": {},
          "execution_count": 20
        }
      ]
    },
    {
      "cell_type": "code",
      "source": [
        "11 % 5"
      ],
      "metadata": {
        "colab": {
          "base_uri": "https://localhost:8080/"
        },
        "id": "r9qJhlBW3RAd",
        "outputId": "b3e792cb-2f40-46ab-ff81-d43b82b57b91"
      },
      "execution_count": null,
      "outputs": [
        {
          "output_type": "execute_result",
          "data": {
            "text/plain": [
              "1"
            ]
          },
          "metadata": {},
          "execution_count": 21
        }
      ]
    },
    {
      "cell_type": "code",
      "source": [
        "2 ** 5"
      ],
      "metadata": {
        "colab": {
          "base_uri": "https://localhost:8080/"
        },
        "id": "KK5YkriO3XlL",
        "outputId": "1fa1a198-64a7-4be5-c4ab-05732fbbf6f1"
      },
      "execution_count": null,
      "outputs": [
        {
          "output_type": "execute_result",
          "data": {
            "text/plain": [
              "32"
            ]
          },
          "metadata": {},
          "execution_count": 22
        }
      ]
    },
    {
      "cell_type": "code",
      "source": [
        "print(5 == 5)\n",
        "print(5 != 4)\n",
        "print(5 != 5)\n",
        "\n",
        "print(5 < 4) \n",
        "print(5 > 5)"
      ],
      "metadata": {
        "colab": {
          "base_uri": "https://localhost:8080/"
        },
        "id": "nR5fnzjv3lJ_",
        "outputId": "d388c2c2-223e-45dc-c3da-2f541dc7c178"
      },
      "execution_count": null,
      "outputs": [
        {
          "output_type": "stream",
          "name": "stdout",
          "text": [
            "True\n",
            "True\n",
            "False\n",
            "False\n",
            "False\n"
          ]
        }
      ]
    },
    {
      "cell_type": "code",
      "source": [
        "a  = 10\n",
        "b = 11\n",
        "print(a == b - 1)\n",
        "print( a - b < b - a)\n"
      ],
      "metadata": {
        "colab": {
          "base_uri": "https://localhost:8080/"
        },
        "id": "mE23cwuY4ITQ",
        "outputId": "9e3986bf-57fd-41b5-eec2-49d2a19611e5"
      },
      "execution_count": null,
      "outputs": [
        {
          "output_type": "stream",
          "name": "stdout",
          "text": [
            "True\n",
            "True\n"
          ]
        }
      ]
    },
    {
      "cell_type": "code",
      "source": [
        "not(True)"
      ],
      "metadata": {
        "colab": {
          "base_uri": "https://localhost:8080/"
        },
        "id": "kChujD_f4i2n",
        "outputId": "e2aec71e-214d-4f7e-c19f-7c87e3f321d2"
      },
      "execution_count": null,
      "outputs": [
        {
          "output_type": "execute_result",
          "data": {
            "text/plain": [
              "False"
            ]
          },
          "metadata": {},
          "execution_count": 26
        }
      ]
    },
    {
      "cell_type": "code",
      "source": [
        "True or False"
      ],
      "metadata": {
        "colab": {
          "base_uri": "https://localhost:8080/"
        },
        "id": "gwMJTVMC4q-f",
        "outputId": "be2a8784-461f-4fab-b0c1-365f367ab125"
      },
      "execution_count": null,
      "outputs": [
        {
          "output_type": "execute_result",
          "data": {
            "text/plain": [
              "True"
            ]
          },
          "metadata": {},
          "execution_count": 29
        }
      ]
    },
    {
      "cell_type": "code",
      "source": [
        "id(p)"
      ],
      "metadata": {
        "colab": {
          "base_uri": "https://localhost:8080/"
        },
        "id": "F7ZYi6eExzcw",
        "outputId": "3b39912e-2faf-4d4e-bc23-4d55f2c21c71"
      },
      "execution_count": null,
      "outputs": [
        {
          "output_type": "execute_result",
          "data": {
            "text/plain": [
              "140465556347952"
            ]
          },
          "metadata": {},
          "execution_count": 7
        }
      ]
    },
    {
      "cell_type": "code",
      "source": [
        "Name = input(\"Name: \")\n",
        "print(\"Good Morning\", Name)"
      ],
      "metadata": {
        "colab": {
          "base_uri": "https://localhost:8080/"
        },
        "id": "CJgr1bdh9OhT",
        "outputId": "33eb5b9f-ba39-4260-ef60-64179b70fd36"
      },
      "execution_count": null,
      "outputs": [
        {
          "output_type": "stream",
          "name": "stdout",
          "text": [
            "Name: Ashwini\n",
            "Good Morning Ashwini\n"
          ]
        }
      ]
    },
    {
      "cell_type": "code",
      "source": [
        "a = int(input(\"a = \"))\n",
        "print(type(a))\n",
        "b = float(input(\"b = \"))\n",
        "print(type(b))\n",
        "c = a + b\n",
        "print(c)"
      ],
      "metadata": {
        "colab": {
          "base_uri": "https://localhost:8080/"
        },
        "id": "unj8v0_f9uxV",
        "outputId": "b14370fa-db39-48a6-c063-5e97cadc3e66"
      },
      "execution_count": null,
      "outputs": [
        {
          "output_type": "stream",
          "name": "stdout",
          "text": [
            "a = 34\n",
            "<class 'int'>\n",
            "b = 50.5\n",
            "<class 'float'>\n",
            "84.5\n"
          ]
        }
      ]
    },
    {
      "cell_type": "code",
      "source": [
        "a = int(\"90\")\n",
        "print(type(a))"
      ],
      "metadata": {
        "colab": {
          "base_uri": "https://localhost:8080/"
        },
        "id": "t6yhVFei-5y3",
        "outputId": "00964faf-963f-47c0-b14e-189301070bda"
      },
      "execution_count": null,
      "outputs": [
        {
          "output_type": "stream",
          "name": "stdout",
          "text": [
            "<class 'int'>\n"
          ]
        }
      ]
    },
    {
      "cell_type": "markdown",
      "source": [
        "Q1 )\n",
        "Write a code to Accept P and T from user. R = 5% for 1st 2 years, then it increases to 7%. Cal SI"
      ],
      "metadata": {
        "id": "wZ_d0Bqn_hzZ"
      }
    },
    {
      "cell_type": "code",
      "source": [
        "if (3<4) and (3 != 4):\n",
        "  print(\"It is true\")\n",
        "else:\n",
        "  print(\"It is not true\")\n"
      ],
      "metadata": {
        "colab": {
          "base_uri": "https://localhost:8080/"
        },
        "id": "m6AEoCjAAoFT",
        "outputId": "769ac2d5-3db0-48de-92bc-9411c51d86ff"
      },
      "execution_count": null,
      "outputs": [
        {
          "output_type": "stream",
          "name": "stdout",
          "text": [
            "It is true\n"
          ]
        }
      ]
    },
    {
      "cell_type": "code",
      "source": [
        "a = 200\n",
        "b = 140\n",
        "c = 310\n",
        "\n",
        "print(a) if(a > b and a > c) else print(b) if (b> a and b > c) else print(c)\n",
        "\n",
        "#if(a > b):\n",
        " # print(a)\n",
        "#else:\n",
        " # print(b)"
      ],
      "metadata": {
        "colab": {
          "base_uri": "https://localhost:8080/"
        },
        "id": "zygUjhf2CXrl",
        "outputId": "8b6b71c3-b7cf-4159-d854-671cd4336abf"
      },
      "execution_count": null,
      "outputs": [
        {
          "output_type": "stream",
          "name": "stdout",
          "text": [
            "310\n"
          ]
        }
      ]
    },
    {
      "cell_type": "code",
      "source": [
        "i  = 1\n",
        "while(i < 100):\n",
        "  print(i)\n",
        "  i += 1\n",
        "  if( i % 15 == 0):\n",
        "    break;\n",
        "  i += 1\n",
        "print(\" i = \", i)\n",
        "print(\"Out of while\")"
      ],
      "metadata": {
        "colab": {
          "base_uri": "https://localhost:8080/"
        },
        "id": "-PicudCkEjVT",
        "outputId": "84f96214-7ec9-436f-84e0-eb878f4b9018"
      },
      "execution_count": null,
      "outputs": [
        {
          "output_type": "stream",
          "name": "stdout",
          "text": [
            "1\n",
            "3\n",
            "5\n",
            "7\n",
            "9\n",
            "11\n",
            "13\n",
            "15\n",
            "17\n",
            "19\n",
            "21\n",
            "23\n",
            "25\n",
            "27\n",
            "29\n",
            " i =  30\n",
            "Out of while\n"
          ]
        }
      ]
    },
    {
      "cell_type": "code",
      "source": [
        "for i in range(10):\n",
        "  print(i)"
      ],
      "metadata": {
        "colab": {
          "base_uri": "https://localhost:8080/"
        },
        "id": "yFh2o2vL0NvW",
        "outputId": "0c5e5836-b687-4ef1-91cc-9435a2c9a085"
      },
      "execution_count": null,
      "outputs": [
        {
          "output_type": "stream",
          "name": "stdout",
          "text": [
            "0\n",
            "1\n",
            "2\n",
            "3\n",
            "4\n",
            "5\n",
            "6\n",
            "7\n",
            "8\n",
            "9\n"
          ]
        }
      ]
    },
    {
      "cell_type": "code",
      "source": [
        "i = 0.0\n",
        "while( i < 10.0):\n",
        "  print(i)\n",
        "  i = i + 1.75"
      ],
      "metadata": {
        "colab": {
          "base_uri": "https://localhost:8080/"
        },
        "id": "1kua7oVM27Y1",
        "outputId": "a8ea35c1-902a-45a2-d88c-001788fdd420"
      },
      "execution_count": null,
      "outputs": [
        {
          "output_type": "stream",
          "name": "stdout",
          "text": [
            "0.0\n",
            "1.75\n",
            "3.5\n",
            "5.25\n",
            "7.0\n",
            "8.75\n"
          ]
        }
      ]
    },
    {
      "cell_type": "code",
      "source": [
        "for mynum in range(5,11,3):\n",
        "  print(mynum)\n",
        "  mynum = mynum + 1.5 #No impact on loop variable"
      ],
      "metadata": {
        "colab": {
          "base_uri": "https://localhost:8080/"
        },
        "id": "k6Bdow4P3ck8",
        "outputId": "ba409097-e988-4719-9ddb-5d1c85d6efdb"
      },
      "execution_count": null,
      "outputs": [
        {
          "output_type": "stream",
          "name": "stdout",
          "text": [
            "5\n",
            "8\n"
          ]
        }
      ]
    },
    {
      "cell_type": "markdown",
      "source": [
        "Write a code to display multiplication table of a number accecpted from user in the below format:\n",
        "3 X 1 = 3\n",
        "3 X 2 = 6"
      ],
      "metadata": {
        "id": "7jmEnFKw4QkL"
      }
    },
    {
      "cell_type": "code",
      "source": [
        "print(\"Good Morning\", end = ' ')\n",
        "print(\"Ashwini\", end = ' ')\n",
        "print(\"How r u?\")\n",
        "print('I am fine')"
      ],
      "metadata": {
        "colab": {
          "base_uri": "https://localhost:8080/"
        },
        "id": "Z-hFN5Hr4YJQ",
        "outputId": "a0f0f71e-70c3-45b3-9731-891abe4b76cc"
      },
      "execution_count": null,
      "outputs": [
        {
          "output_type": "stream",
          "name": "stdout",
          "text": [
            "Good Morning Ashwini How r u?\n",
            "I am fine\n"
          ]
        }
      ]
    },
    {
      "cell_type": "code",
      "source": [
        "print(\"Good Morning\", \"Ashwini\",\"How r u?\" , sep = '|', end = '\\t')\n",
        "print('I am fine')"
      ],
      "metadata": {
        "colab": {
          "base_uri": "https://localhost:8080/"
        },
        "id": "kbvDhnD93bKW",
        "outputId": "35b42354-fb68-45a5-9098-555c82149ce6"
      },
      "execution_count": null,
      "outputs": [
        {
          "output_type": "stream",
          "name": "stdout",
          "text": [
            "Good Morning|Ashwini|How r u?\tI am fine\n"
          ]
        }
      ]
    },
    {
      "cell_type": "code",
      "source": [],
      "metadata": {
        "id": "QY2jTWJ64PKF"
      },
      "execution_count": null,
      "outputs": []
    },
    {
      "cell_type": "markdown",
      "source": [
        "Q) Write a code to display all numbers from 1 to 50. For the numbers divisible by 3 display \"FUZZ\", for the number divisible by both 3 and 7 display \"BUZZ\""
      ],
      "metadata": {
        "id": "OFtgo5Xl2SEs"
      }
    },
    {
      "cell_type": "code",
      "source": [
        "def sum(a,b,c):\n",
        "  '''this function will add three values and return the sum\n",
        "  eg: if the 3 numbers are 12, 10 ,5 it will return 27'''\n",
        "  c = a + b + c\n",
        "  return c"
      ],
      "metadata": {
        "id": "8Ox4_f7s_qva"
      },
      "execution_count": null,
      "outputs": []
    },
    {
      "cell_type": "code",
      "source": [
        "sum.__doc__"
      ],
      "metadata": {
        "colab": {
          "base_uri": "https://localhost:8080/",
          "height": 36
        },
        "id": "d0XodTFQ_-jQ",
        "outputId": "c369f355-9ec2-4ff3-fc75-58b9e088e573"
      },
      "execution_count": null,
      "outputs": [
        {
          "output_type": "execute_result",
          "data": {
            "text/plain": [
              "'this function will add three values and return the sum\\n  eg: if the 3 numbers are 12, 10 ,5 it will return 27'"
            ],
            "application/vnd.google.colaboratory.intrinsic+json": {
              "type": "string"
            }
          },
          "metadata": {},
          "execution_count": 21
        }
      ]
    },
    {
      "cell_type": "code",
      "source": [
        "range.__doc__\n"
      ],
      "metadata": {
        "colab": {
          "base_uri": "https://localhost:8080/",
          "height": 70
        },
        "id": "jrrbhd9YAEsH",
        "outputId": "56d50be4-727b-42ac-e9bc-d2ecd2b7ac87"
      },
      "execution_count": null,
      "outputs": [
        {
          "output_type": "execute_result",
          "data": {
            "text/plain": [
              "'range(stop) -> range object\\nrange(start, stop[, step]) -> range object\\n\\nReturn an object that produces a sequence of integers from start (inclusive)\\nto stop (exclusive) by step.  range(i, j) produces i, i+1, i+2, ..., j-1.\\nstart defaults to 0, and stop is omitted!  range(4) produces 0, 1, 2, 3.\\nThese are exactly the valid indices for a list of 4 elements.\\nWhen step is given, it specifies the increment (or decrement).'"
            ],
            "application/vnd.google.colaboratory.intrinsic+json": {
              "type": "string"
            }
          },
          "metadata": {},
          "execution_count": 19
        }
      ]
    },
    {
      "cell_type": "code",
      "source": [
        "print.__doc__"
      ],
      "metadata": {
        "colab": {
          "base_uri": "https://localhost:8080/",
          "height": 70
        },
        "id": "02e-nW7dAqdC",
        "outputId": "f2a41bfc-e202-473c-e56f-6ef086b023fa"
      },
      "execution_count": null,
      "outputs": [
        {
          "output_type": "execute_result",
          "data": {
            "text/plain": [
              "\"print(value, ..., sep=' ', end='\\\\n', file=sys.stdout, flush=False)\\n\\nPrints the values to a stream, or to sys.stdout by default.\\nOptional keyword arguments:\\nfile:  a file-like object (stream); defaults to the current sys.stdout.\\nsep:   string inserted between values, default a space.\\nend:   string appended after the last value, default a newline.\\nflush: whether to forcibly flush the stream.\""
            ],
            "application/vnd.google.colaboratory.intrinsic+json": {
              "type": "string"
            }
          },
          "metadata": {},
          "execution_count": 22
        }
      ]
    },
    {
      "cell_type": "code",
      "source": [
        "sum(13,14,15)"
      ],
      "metadata": {
        "colab": {
          "base_uri": "https://localhost:8080/"
        },
        "id": "WUYcB2K8A2Yn",
        "outputId": "978b2e60-0162-4ca1-a2db-dbe7bd67302c"
      },
      "execution_count": null,
      "outputs": [
        {
          "output_type": "execute_result",
          "data": {
            "text/plain": [
              "42"
            ]
          },
          "metadata": {},
          "execution_count": 23
        }
      ]
    },
    {
      "cell_type": "markdown",
      "source": [
        "Modify sum function that does not have any parameters, accept any number of values from the user and return its sum. Till a specific value is entered. "
      ],
      "metadata": {
        "id": "UD4eqRIuBEpp"
      }
    },
    {
      "cell_type": "code",
      "source": [
        "def sumdiff(a,b):\n",
        "  \"this function returns both sum and diff of two numbers\"\n",
        "  return a+b, a-b"
      ],
      "metadata": {
        "id": "iowlFCsMEEeD"
      },
      "execution_count": null,
      "outputs": []
    },
    {
      "cell_type": "code",
      "source": [
        "sum, diff = sumdiff(30,12)\n",
        "print(sum,diff)"
      ],
      "metadata": {
        "colab": {
          "base_uri": "https://localhost:8080/"
        },
        "id": "4PUlTHXoETE-",
        "outputId": "b96be634-438d-4bbe-edab-e86b99812ca7"
      },
      "execution_count": null,
      "outputs": [
        {
          "output_type": "stream",
          "name": "stdout",
          "text": [
            "42 18\n"
          ]
        }
      ]
    },
    {
      "cell_type": "code",
      "source": [
        "sumdiff.__doc__"
      ],
      "metadata": {
        "colab": {
          "base_uri": "https://localhost:8080/",
          "height": 36
        },
        "id": "I1M1_443EZJK",
        "outputId": "cc0315b4-e927-469a-df51-ab10c83a7043"
      },
      "execution_count": null,
      "outputs": [
        {
          "output_type": "execute_result",
          "data": {
            "text/plain": [
              "'this function returns both sum and diff of two numbers'"
            ],
            "application/vnd.google.colaboratory.intrinsic+json": {
              "type": "string"
            }
          },
          "metadata": {},
          "execution_count": 26
        }
      ]
    },
    {
      "cell_type": "code",
      "source": [
        "def myRange( stop, start = 0, step = 1):\n",
        "  i = start\n",
        "  while( i < stop):\n",
        "    print(i)\n",
        "    i = i + step\n",
        "  return"
      ],
      "metadata": {
        "id": "r5rMaNZQEy28"
      },
      "execution_count": null,
      "outputs": []
    },
    {
      "cell_type": "code",
      "source": [
        "myRange(11, 5, 2)"
      ],
      "metadata": {
        "colab": {
          "base_uri": "https://localhost:8080/"
        },
        "id": "G_GDrGtYFLMR",
        "outputId": "b43813cb-9a94-458d-9a11-1f4beec503f4"
      },
      "execution_count": null,
      "outputs": [
        {
          "output_type": "stream",
          "name": "stdout",
          "text": [
            "5\n",
            "7\n",
            "9\n"
          ]
        }
      ]
    },
    {
      "cell_type": "code",
      "source": [
        "myRange.__doc__"
      ],
      "metadata": {
        "id": "5PeX6-A0Fzu1"
      },
      "execution_count": null,
      "outputs": []
    },
    {
      "cell_type": "markdown",
      "source": [
        "Introduction to String Slicing"
      ],
      "metadata": {
        "id": "R-fFaMPxI49W"
      }
    },
    {
      "cell_type": "code",
      "source": [
        "s = \"0123456789\"\n",
        "#1\n",
        "print(s[ : : ])\n",
        "#2\n",
        "print(s[3:7])\n",
        "#3\n",
        "print(s[ : : 2])\n",
        "#4\n",
        "print(s[ : : -1])\n",
        "#5\n",
        "print(s[11 : 0 : -1])\n",
        "#6\n",
        "print(s[ :-6 : -1])\n",
        "#7\n",
        "print(s[ -2 :-6 : -1])"
      ],
      "metadata": {
        "colab": {
          "base_uri": "https://localhost:8080/"
        },
        "id": "Po-r9srcI4i-",
        "outputId": "a641861f-7189-43a7-ec62-1ef88fd32cc4"
      },
      "execution_count": null,
      "outputs": [
        {
          "output_type": "stream",
          "name": "stdout",
          "text": [
            "0123456789\n",
            "3456\n",
            "02468\n",
            "9876543210\n",
            "987654321\n",
            "98765\n",
            "8765\n"
          ]
        }
      ]
    },
    {
      "cell_type": "code",
      "source": [
        "i = s.find('*')\n",
        "print(i)"
      ],
      "metadata": {
        "colab": {
          "base_uri": "https://localhost:8080/"
        },
        "id": "2xjLyqRuKLxy",
        "outputId": "c44ea46c-370d-4214-863e-486fcc3211c9"
      },
      "execution_count": null,
      "outputs": [
        {
          "output_type": "stream",
          "name": "stdout",
          "text": [
            "-1\n"
          ]
        }
      ]
    },
    {
      "cell_type": "code",
      "source": [
        "name = \"Ashwini S Matange\"\n",
        "s1 = name.find(\" \")\n",
        "print(s1)\n",
        "print(name[ : s1])\n",
        "s2 = name.find(' ',s1 + 1)\n",
        "print(s2)"
      ],
      "metadata": {
        "colab": {
          "base_uri": "https://localhost:8080/"
        },
        "id": "hPMP60AWKZrp",
        "outputId": "3a03e0c9-ffd7-4502-8dea-bd49e94c78b5"
      },
      "execution_count": null,
      "outputs": [
        {
          "output_type": "stream",
          "name": "stdout",
          "text": [
            "7\n",
            "Ashwini\n",
            "9\n"
          ]
        }
      ]
    },
    {
      "cell_type": "code",
      "source": [
        "s = \"0123456789.68769\"\n",
        "print(s[ -1 : -7  : -2 ])"
      ],
      "metadata": {
        "colab": {
          "base_uri": "https://localhost:8080/"
        },
        "id": "mt3KsvkBKk6J",
        "outputId": "fa7d8133-ae66-469a-cc55-2b1ac64875c1"
      },
      "execution_count": null,
      "outputs": [
        {
          "output_type": "stream",
          "name": "stdout",
          "text": [
            "976\n"
          ]
        }
      ]
    },
    {
      "cell_type": "code",
      "source": [
        "if \".\" in s:\n",
        "  snum = float(s)\n",
        "elif s.isdigit():\n",
        "  snum = int(s)\n",
        "print(type(snum), snum)\n",
        "print(type(s), s)"
      ],
      "metadata": {
        "colab": {
          "base_uri": "https://localhost:8080/"
        },
        "id": "hWe6bXNBNAZy",
        "outputId": "1c2af590-b44e-4881-be79-07e6a52aab67"
      },
      "execution_count": null,
      "outputs": [
        {
          "output_type": "stream",
          "name": "stdout",
          "text": [
            "<class 'float'> 123456789.68769\n",
            "<class 'str'> 0123456789.68769\n"
          ]
        }
      ]
    },
    {
      "cell_type": "code",
      "source": [
        "s2 = \"3.5\"\n",
        "print(s2.isdecimal())"
      ],
      "metadata": {
        "colab": {
          "base_uri": "https://localhost:8080/"
        },
        "id": "0TF6CgxjOCyA",
        "outputId": "235259d9-5b68-45f8-fc1a-43275ce03603"
      },
      "execution_count": null,
      "outputs": [
        {
          "output_type": "stream",
          "name": "stdout",
          "text": [
            "False\n"
          ]
        }
      ]
    },
    {
      "cell_type": "code",
      "source": [
        "<str>.isdecimal.__doc__"
      ],
      "metadata": {
        "colab": {
          "base_uri": "https://localhost:8080/",
          "height": 130
        },
        "id": "qP8oRcn-ONt9",
        "outputId": "5019500d-5a86-496c-a339-281d608e716e"
      },
      "execution_count": null,
      "outputs": [
        {
          "output_type": "error",
          "ename": "SyntaxError",
          "evalue": "ignored",
          "traceback": [
            "\u001b[0;36m  File \u001b[0;32m\"<ipython-input-84-1860984d4d6a>\"\u001b[0;36m, line \u001b[0;32m1\u001b[0m\n\u001b[0;31m    <str>.isdecimal.__doc__\u001b[0m\n\u001b[0m    ^\u001b[0m\n\u001b[0;31mSyntaxError\u001b[0m\u001b[0;31m:\u001b[0m invalid syntax\n"
          ]
        }
      ]
    },
    {
      "cell_type": "code",
      "source": [
        "a = 10.0\n",
        "print(type(a))\n",
        "print(id(a))\n",
        "a = 20.5\n",
        "print(type(a))\n",
        "print(id(a))\n",
        "a = 30.56\n",
        "print(type(a))\n",
        "print(id(a))\n",
        "#all numbers type are immutable\n",
        "\n",
        "\n",
        "\n",
        "\n",
        "\n"
      ],
      "metadata": {
        "colab": {
          "base_uri": "https://localhost:8080/"
        },
        "id": "cMfoacs9xNso",
        "outputId": "8b1fbeca-e4a5-4506-aaab-29d63040995e"
      },
      "execution_count": null,
      "outputs": [
        {
          "output_type": "stream",
          "name": "stdout",
          "text": [
            "<class 'float'>\n",
            "139861681969712\n",
            "<class 'float'>\n",
            "139861681969616\n",
            "<class 'float'>\n",
            "139861682009360\n"
          ]
        }
      ]
    },
    {
      "cell_type": "code",
      "source": [
        "tu = (\"Ashwini\", 12345, [\"CS\", \"IT\"], \"asm.comp@coep.ac.in\",(\"Sourabh\",\"CS\"))\n",
        "Li = [[\"India\", \"US\", \"China\",\"Nepal\"],[345634586,63546458,6456845,3654417,734825687,47575,64563,465437]]\n",
        "\n",
        "print(type(tu[2]))\n",
        "print(Li[1][1: :2])"
      ],
      "metadata": {
        "colab": {
          "base_uri": "https://localhost:8080/"
        },
        "id": "iWMP7Afk0G20",
        "outputId": "ebfd8a1a-dbae-45ac-d995-16edb9df3aff"
      },
      "execution_count": null,
      "outputs": [
        {
          "output_type": "stream",
          "name": "stdout",
          "text": [
            "<class 'list'>\n",
            "[63546458, 3654417, 47575, 465437]\n"
          ]
        }
      ]
    },
    {
      "cell_type": "code",
      "source": [
        "print(id(tu))\n",
        "print(id(Li))\n",
        "tu = (\"Ashwini\", 12345, [\"CS\", \"IT\"], \"asm.comp@coep.ac.in\")\n",
        "Li = [\"India\", \"US\", \"China\",\"Nepal\",\"Srilanka\"]\n",
        "print(id(tu))\n",
        "print(id(Li))"
      ],
      "metadata": {
        "id": "_2BCoNs614IG"
      },
      "execution_count": null,
      "outputs": []
    },
    {
      "cell_type": "code",
      "source": [
        "L1 = [1, 2, 3, 4]\n",
        "\n",
        "L2 = L1\n",
        "#print(L1)\n",
        "#print(L2)\n",
        "L2.append(5)\n",
        "#print(L1)\n",
        "#print(L2)\n",
        "#Shallow Copy\n",
        "\n",
        "L3 = L1[:]\n",
        "\n",
        "print(L3)\n",
        "print(id(L3))\n",
        "#Deep Copy\n",
        "L1.append(6)\n",
        "print(id(L3))\n",
        "print(L1)\n",
        "print(L2)\n",
        "print(L3)\n",
        "\n",
        "print( 6 in L3 , 5 in L1 )\n",
        "L2.extend(L3)\n",
        "print(L2)"
      ],
      "metadata": {
        "colab": {
          "base_uri": "https://localhost:8080/"
        },
        "id": "lKghJc1a38g8",
        "outputId": "13e6bfc0-29b6-49d7-8edc-2f581a394de1"
      },
      "execution_count": null,
      "outputs": [
        {
          "output_type": "stream",
          "name": "stdout",
          "text": [
            "[1, 2, 3, 4, 5]\n",
            "139861662052416\n",
            "139861662052416\n",
            "[1, 2, 3, 4, 5, 6]\n",
            "[1, 2, 3, 4, 5, 6]\n",
            "[1, 2, 3, 4, 5]\n",
            "False True\n",
            "[1, 2, 3, 4, 5, 6, 1, 2, 3, 4, 5]\n"
          ]
        }
      ]
    },
    {
      "cell_type": "code",
      "source": [
        "L4 = L1 + L2 + L3\n",
        "print(L4)"
      ],
      "metadata": {
        "colab": {
          "base_uri": "https://localhost:8080/"
        },
        "id": "ZNGT_-f3-hga",
        "outputId": "ae3d2926-3007-4bdf-f5cf-728a65159552"
      },
      "execution_count": null,
      "outputs": [
        {
          "output_type": "stream",
          "name": "stdout",
          "text": [
            "[1, 2, 3, 4, 5, 6, 1, 2, 3, 4, 5, 6, 1, 2, 3, 4, 5]\n"
          ]
        }
      ]
    },
    {
      "cell_type": "code",
      "source": [
        "len(\"dfgjldgf djfljfdh lhfljdfh\")"
      ],
      "metadata": {
        "colab": {
          "base_uri": "https://localhost:8080/"
        },
        "id": "GqY5cl0IDOUy",
        "outputId": "e42c329c-e396-44a9-f9fe-2225e19b0d8d"
      },
      "execution_count": null,
      "outputs": [
        {
          "output_type": "execute_result",
          "data": {
            "text/plain": [
              "26"
            ]
          },
          "metadata": {},
          "execution_count": 29
        }
      ]
    },
    {
      "cell_type": "code",
      "source": [
        "name = list(\"Ashwini\")\n",
        "print(name)\n",
        "print(sorted(name))\n",
        "print(name)\n"
      ],
      "metadata": {
        "colab": {
          "base_uri": "https://localhost:8080/"
        },
        "id": "34DdgDRSDcdV",
        "outputId": "d585d103-9c0d-40b2-f460-2ce4edf9ef7c"
      },
      "execution_count": null,
      "outputs": [
        {
          "output_type": "stream",
          "name": "stdout",
          "text": [
            "['A', 's', 'h', 'w', 'i', 'n', 'i']\n",
            "['A', 'h', 'i', 'i', 'n', 's', 'w']\n",
            "['A', 's', 'h', 'w', 'i', 'n', 'i']\n"
          ]
        }
      ]
    },
    {
      "cell_type": "code",
      "source": [
        "#Q) Navigate thry the email list, print email is valid/invalid\n",
        "# if valid email, print username and department\n",
        "email_list = [\"asm.comp@coep.ac.in\", \"asm.comp.coep.ac.in\",\"ashwini.computer@coep.ac.in\"]\n",
        "for e in email_list:\n",
        "  print(e)"
      ],
      "metadata": {
        "colab": {
          "base_uri": "https://localhost:8080/"
        },
        "id": "NUIrQceyE4C9",
        "outputId": "3dd84a40-8fa9-4ddf-80cb-492b8d1ded4e"
      },
      "execution_count": null,
      "outputs": [
        {
          "output_type": "stream",
          "name": "stdout",
          "text": [
            "asm.comp@coep.ac.in\n",
            "asm.comp.coep.ac.in\n",
            "ashwini.computer@coep.ac.in\n"
          ]
        }
      ]
    },
    {
      "cell_type": "code",
      "source": [
        "sentence = input(\"Enter a sentence:\")\n",
        "sentence = sentence.replace('  ',' ')\n",
        "sentence = sentence.strip()\n",
        "print(sentence)\n",
        "count = sentence.count(' ')\n",
        "\n",
        "print(count+1)"
      ],
      "metadata": {
        "colab": {
          "base_uri": "https://localhost:8080/"
        },
        "id": "XWPs0vrnrr46",
        "outputId": "9ca6b07c-8577-4575-f4c0-6be8f4f73910"
      },
      "execution_count": null,
      "outputs": [
        {
          "output_type": "stream",
          "name": "stdout",
          "text": [
            "Enter a sentence:     djfhjkdsf jhk \n",
            "djfhjkdsf jhk\n",
            "2\n"
          ]
        }
      ]
    },
    {
      "cell_type": "code",
      "source": [],
      "metadata": {
        "id": "CD3LYWy_uCT3"
      },
      "execution_count": null,
      "outputs": []
    },
    {
      "cell_type": "markdown",
      "source": [
        "Write a code to create a list of numbers from 1 to 10\n",
        "create another list which as sqr of all the numbers in the first list"
      ],
      "metadata": {
        "id": "m1gyVtEsulAd"
      }
    },
    {
      "cell_type": "code",
      "source": [
        "def sqr(i):\n",
        "  return i*i\n",
        "\n",
        "L1 = [i for i in range(1,11) if i%3 == 0 ]\n",
        "\n",
        "print(L1)\n",
        "L2 = [sqr(i) for i in L1]\n",
        "\n",
        "print(L2)"
      ],
      "metadata": {
        "colab": {
          "base_uri": "https://localhost:8080/"
        },
        "id": "7saIRwj2uwcE",
        "outputId": "5deb46a3-479e-4efd-93a0-d3eeb9475970"
      },
      "execution_count": null,
      "outputs": [
        {
          "output_type": "stream",
          "name": "stdout",
          "text": [
            "[3, 6, 9]\n",
            "[9, 36, 81]\n"
          ]
        }
      ]
    },
    {
      "cell_type": "markdown",
      "source": [
        "Example: Consider Electricity bill rates as below:\n",
        "for 1st 100 units - Rs 15\n",
        "for next 200 units - Rs 20\n",
        "for next 300 units - Rs 35\n",
        "above this - Rs 50\n",
        "\n",
        "eg units = 150\n",
        "100*15 + 50*20\n",
        "units 480\n",
        "100 *15 + 200*20 + 180*35\n",
        "define a function to return the bill amount, parameter = units"
      ],
      "metadata": {
        "id": "rCDNQt1vwHrC"
      }
    },
    {
      "cell_type": "code",
      "source": [
        "def get_bill(units):   \n",
        "   charges = [(100, 15), (200, 20), (300, 35)] \n",
        "   bill = 0\n",
        "   for charge in charges:\n",
        "        bill_for_the_slot = charge[1] * min(charge[0], units)\n",
        "        bill += bill_for_the_slot\n",
        "        units -= charge[0]\n",
        "        if units <= 0:\n",
        "          break\n",
        "   if units > 0:\n",
        "       bill += units * 50\n",
        "   return bill\n",
        "    \n",
        "print(get_bill(1750))\n",
        "\n"
      ],
      "metadata": {
        "colab": {
          "base_uri": "https://localhost:8080/"
        },
        "id": "zavXxtxezqUG",
        "outputId": "0c0b5928-8d62-49c7-8f8b-cc42f0194ec1"
      },
      "execution_count": null,
      "outputs": [
        {
          "output_type": "stream",
          "name": "stdout",
          "text": [
            "73500\n"
          ]
        }
      ]
    },
    {
      "cell_type": "code",
      "source": [
        "\n",
        "def calc_bill(units):\n",
        "  amt = 0\n",
        "  if(units <= 100):\n",
        "    amt = units * 15\n",
        "  elif(units <= 300):\n",
        "    amt = 15 * 100 + (units - 100) * 20\n",
        "  elif(units <= 600):\n",
        "    amt = 15 * 100 + 20 * 200 + 35 * (units - 300)\n",
        "  else:\n",
        "    amt = 15 * 100 + 20 * 200 + 35 * 300 + (units - 600)*50\n",
        "  return amt\n",
        "\n",
        "print(calc_bill(1750))\n",
        "\n",
        "\n"
      ],
      "metadata": {
        "colab": {
          "base_uri": "https://localhost:8080/"
        },
        "id": "lYrS0T2a2jxZ",
        "outputId": "4348565b-41f3-4f69-cdda-521db95b7d37"
      },
      "execution_count": null,
      "outputs": [
        {
          "output_type": "stream",
          "name": "stdout",
          "text": [
            "73500\n"
          ]
        }
      ]
    },
    {
      "cell_type": "markdown",
      "source": [
        "create a list of units for 6 months of 2022\n",
        "list comprehension create a new list of corresponding bill amounts\n",
        "display the month when the bill was highest[link text](https://)"
      ],
      "metadata": {
        "id": "SObt8Cwh0_cc"
      }
    },
    {
      "cell_type": "code",
      "source": [
        "JanJune = [230,130,233,127,140,320]\n",
        "billJanJune = [calc_bill(u) for u in JanJune]\n",
        "print(JanJune,billJanJune)\n",
        "month_i = max(billJanJune)\n",
        "print(month_i)\n",
        "month = billJanJune.index(month_i) + 1\n",
        "print(month)\n",
        "print(months[month])\n"
      ],
      "metadata": {
        "colab": {
          "base_uri": "https://localhost:8080/"
        },
        "id": "fznZZL_B5Qcs",
        "outputId": "9b58b601-8cd1-4b3f-810c-a5457fa981b0"
      },
      "execution_count": null,
      "outputs": [
        {
          "output_type": "stream",
          "name": "stdout",
          "text": [
            "[230, 130, 233, 127, 140, 320] [4100, 2100, 4160, 2040, 2300, 6200]\n",
            "6200\n",
            "6\n",
            "June\n"
          ]
        }
      ]
    },
    {
      "cell_type": "code",
      "source": [],
      "metadata": {
        "id": "rryL2qwY7Vff"
      },
      "execution_count": null,
      "outputs": []
    },
    {
      "cell_type": "markdown",
      "source": [
        "Create a list that contains all nos divisible by 7 or 5 from range 1 to 100\n",
        "\n"
      ],
      "metadata": {
        "id": "yWn0lFBB7YPn"
      }
    },
    {
      "cell_type": "code",
      "source": [
        "L7_5 = [i*i for i in range(1,101) if i%17 == 0]\n",
        "print(L7_5)"
      ],
      "metadata": {
        "colab": {
          "base_uri": "https://localhost:8080/"
        },
        "id": "lzvU9cqY8IKS",
        "outputId": "0242c24b-5e41-460d-994d-33298f279fe7"
      },
      "execution_count": null,
      "outputs": [
        {
          "output_type": "stream",
          "name": "stdout",
          "text": [
            "[289, 1156, 2601, 4624, 7225]\n"
          ]
        }
      ]
    },
    {
      "cell_type": "code",
      "source": [
        "car = {\n",
        "    \"brand\": \"Ford\",\n",
        "    \"electric\": False,\n",
        "    \"year\": 1964,\n",
        "    \"colors\": [\"red\", \"white\", \"blue\"]\n",
        "}\n",
        "print(car)"
      ],
      "metadata": {
        "colab": {
          "base_uri": "https://localhost:8080/"
        },
        "id": "HzktLgRA-pFY",
        "outputId": "0d4b7069-56f9-4257-c63a-a0a517dcb09a"
      },
      "execution_count": null,
      "outputs": [
        {
          "output_type": "stream",
          "name": "stdout",
          "text": [
            "{'brand': 'Ford', 'electric': False, 'year': 1964, 'colors': ['red', 'white', 'blue']}\n"
          ]
        }
      ]
    },
    {
      "cell_type": "code",
      "source": [
        "car[\"year\"]"
      ],
      "metadata": {
        "colab": {
          "base_uri": "https://localhost:8080/"
        },
        "id": "AUptiOa1_Iz7",
        "outputId": "0ad3d875-08ab-47e0-95f2-3c38d2f75d01"
      },
      "execution_count": null,
      "outputs": [
        {
          "output_type": "execute_result",
          "data": {
            "text/plain": [
              "1964"
            ]
          },
          "metadata": {},
          "execution_count": 39
        }
      ]
    },
    {
      "cell_type": "code",
      "source": [
        "car[\"colors\"]"
      ],
      "metadata": {
        "colab": {
          "base_uri": "https://localhost:8080/"
        },
        "id": "XR7HPSJQ_MQR",
        "outputId": "d9d30a6f-7cc9-47cd-a37f-8b4422b5565e"
      },
      "execution_count": null,
      "outputs": [
        {
          "output_type": "execute_result",
          "data": {
            "text/plain": [
              "['red', 'white', 'blue']"
            ]
          },
          "metadata": {},
          "execution_count": 42
        }
      ]
    },
    {
      "cell_type": "code",
      "source": [
        "\n",
        "car[\"colors\"][2]"
      ],
      "metadata": {
        "colab": {
          "base_uri": "https://localhost:8080/",
          "height": 36
        },
        "id": "8k3p3KGZ_WuG",
        "outputId": "9d18e93b-1555-4032-c4ba-e57889cf2585"
      },
      "execution_count": null,
      "outputs": [
        {
          "output_type": "execute_result",
          "data": {
            "text/plain": [
              "'blue'"
            ],
            "application/vnd.google.colaboratory.intrinsic+json": {
              "type": "string"
            }
          },
          "metadata": {},
          "execution_count": 44
        }
      ]
    },
    {
      "cell_type": "code",
      "source": [
        "sqr = { 0:0, \n",
        "       1:1,\n",
        "       2:4,\n",
        "       3:9,\n",
        "       4:16,\n",
        "       5:25}\n",
        "print(sqr)\n",
        "srqit = {k: k*k for k in range(0,6)}\n",
        "print(srqit)"
      ],
      "metadata": {
        "colab": {
          "base_uri": "https://localhost:8080/"
        },
        "id": "h9Q0BOq-_qCe",
        "outputId": "7e3ba39f-5de4-4e8a-ee35-794cd51921fb"
      },
      "execution_count": null,
      "outputs": [
        {
          "output_type": "stream",
          "name": "stdout",
          "text": [
            "{0: 0, 1: 1, 2: 4, 3: 9, 4: 16, 5: 25}\n",
            "{0: 0, 1: 1, 2: 4, 3: 9, 4: 16, 5: 25}\n"
          ]
        }
      ]
    },
    {
      "cell_type": "code",
      "source": [
        "sqr[4]"
      ],
      "metadata": {
        "colab": {
          "base_uri": "https://localhost:8080/"
        },
        "id": "buBPuAs4_3bi",
        "outputId": "a29af9f6-5910-475e-b7eb-a77dc1f2c86f"
      },
      "execution_count": null,
      "outputs": [
        {
          "output_type": "execute_result",
          "data": {
            "text/plain": [
              "20"
            ]
          },
          "metadata": {},
          "execution_count": 48
        }
      ]
    },
    {
      "cell_type": "markdown",
      "source": [
        "Create a dictionary of month no and name\n",
        "1 : \"Jan\""
      ],
      "metadata": {
        "id": "e0UIrQ_CAAde"
      }
    },
    {
      "cell_type": "code",
      "source": [
        "months = { 1: \"Jan\",\n",
        "          2: \"Feb\",\n",
        "          3: \"Mar\",\n",
        "          4: \"April\",\n",
        "          5:\"May\",\n",
        "          6:\"June\"}\n",
        "months[3]\n",
        "months[1] = \"January\"\n",
        "print(months)"
      ],
      "metadata": {
        "colab": {
          "base_uri": "https://localhost:8080/"
        },
        "id": "_cICzpMMAphY",
        "outputId": "4247c9d6-047a-4178-cecb-96ec963a803b"
      },
      "execution_count": null,
      "outputs": [
        {
          "output_type": "stream",
          "name": "stdout",
          "text": [
            "{1: 'January', 2: 'Feb', 3: 'Mar', 4: 'April', 5: 'May', 6: 'June'}\n"
          ]
        }
      ]
    },
    {
      "cell_type": "code",
      "source": [
        "def get_bill(units):   \n",
        "   charges = [(100, 15), (200, 20), (300, 35)] \n",
        "   bill = 0\n",
        "   for charge in charges:\n",
        "        bill_for_the_slot = charge[1] * min(charge[0], units)\n",
        "        bill += bill_for_the_slot\n",
        "        units -= charge[0]\n",
        "        if units <= 0:\n",
        "          break\n",
        "   if units > 0:\n",
        "       bill += units * 50\n",
        "   return bill\n",
        "    \n",
        "print(get_bill(1750))\n",
        "d = {}\n",
        "l = []"
      ],
      "metadata": {
        "id": "G0E2vSJXBHKf"
      },
      "execution_count": null,
      "outputs": []
    },
    {
      "cell_type": "code",
      "source": [
        "slab = [100, 200, 300]\n",
        "rate = [15, 20, 35]\n",
        "\n",
        "ref = {x:y for x in slab for y in rate}\n",
        "ref_tup = [(slab[i],rate[i]) for i in range(3)]\n",
        "print(ref)\n",
        "print(ref_tup)"
      ],
      "metadata": {
        "colab": {
          "base_uri": "https://localhost:8080/"
        },
        "id": "sbXhiQXF4C7w",
        "outputId": "f6c780b2-283e-49d3-988b-fce5a2ecafa1"
      },
      "execution_count": null,
      "outputs": [
        {
          "output_type": "stream",
          "name": "stdout",
          "text": [
            "{100: 35, 200: 35, 300: 35}\n",
            "[(100, 15), (200, 20), (300, 35)]\n"
          ]
        }
      ]
    },
    {
      "cell_type": "code",
      "source": [
        "set1 = {1,2,3,4}\n",
        "print(type(set1))"
      ],
      "metadata": {
        "colab": {
          "base_uri": "https://localhost:8080/"
        },
        "id": "sKTeMZM16JcE",
        "outputId": "88ee3bba-9062-4e14-aef2-e786524dbc45"
      },
      "execution_count": null,
      "outputs": [
        {
          "output_type": "stream",
          "name": "stdout",
          "text": [
            "<class 'set'>\n"
          ]
        }
      ]
    },
    {
      "cell_type": "code",
      "source": [
        "set1[2]"
      ],
      "metadata": {
        "colab": {
          "base_uri": "https://localhost:8080/",
          "height": 165
        },
        "id": "hsy4LIzy6RTw",
        "outputId": "79821a3f-e0d9-4a87-b511-87cb969bb5a6"
      },
      "execution_count": null,
      "outputs": [
        {
          "output_type": "error",
          "ename": "TypeError",
          "evalue": "ignored",
          "traceback": [
            "\u001b[0;31m---------------------------------------------------------------------------\u001b[0m",
            "\u001b[0;31mTypeError\u001b[0m                                 Traceback (most recent call last)",
            "\u001b[0;32m<ipython-input-8-f6f64d0ccb0e>\u001b[0m in \u001b[0;36m<module>\u001b[0;34m\u001b[0m\n\u001b[0;32m----> 1\u001b[0;31m \u001b[0mset1\u001b[0m\u001b[0;34m[\u001b[0m\u001b[0;36m2\u001b[0m\u001b[0;34m]\u001b[0m\u001b[0;34m\u001b[0m\u001b[0;34m\u001b[0m\u001b[0m\n\u001b[0m",
            "\u001b[0;31mTypeError\u001b[0m: 'set' object is not subscriptable"
          ]
        }
      ]
    },
    {
      "cell_type": "code",
      "source": [
        "set1.add(5)\n",
        "print(set1)"
      ],
      "metadata": {
        "colab": {
          "base_uri": "https://localhost:8080/"
        },
        "id": "RLxW2J8e6YdR",
        "outputId": "8b10cdeb-538f-43bc-d337-08e2f7b3c3b8"
      },
      "execution_count": null,
      "outputs": [
        {
          "output_type": "stream",
          "name": "stdout",
          "text": [
            "{1, 2, 3, 4, 5}\n"
          ]
        }
      ]
    },
    {
      "cell_type": "code",
      "source": [
        "set1.add(5)\n",
        "print(set1)"
      ],
      "metadata": {
        "colab": {
          "base_uri": "https://localhost:8080/"
        },
        "id": "Dbv7h9ym6jgf",
        "outputId": "ea55b146-bb7d-44c1-cb9f-7cfa99ca1b6b"
      },
      "execution_count": null,
      "outputs": [
        {
          "output_type": "stream",
          "name": "stdout",
          "text": [
            "{1, 2, 3, 4, 5}\n"
          ]
        }
      ]
    },
    {
      "cell_type": "code",
      "source": [
        "set1.remove(4)\n",
        "print(set1)"
      ],
      "metadata": {
        "colab": {
          "base_uri": "https://localhost:8080/"
        },
        "id": "2iYvqWtH6v8y",
        "outputId": "58f07318-1321-4476-8816-024e07e1d2cd"
      },
      "execution_count": null,
      "outputs": [
        {
          "output_type": "stream",
          "name": "stdout",
          "text": [
            "{1, 2, 3, 5}\n"
          ]
        }
      ]
    },
    {
      "cell_type": "code",
      "source": [
        "set1.add(\"xy\")\n",
        "print(set1)\n"
      ],
      "metadata": {
        "colab": {
          "base_uri": "https://localhost:8080/"
        },
        "id": "HdtQ4Aka62_G",
        "outputId": "833ab5f0-761f-4e2a-b485-fec800bbab4e"
      },
      "execution_count": null,
      "outputs": [
        {
          "output_type": "stream",
          "name": "stdout",
          "text": [
            "{1, 2, 3, 5, 'xy'}\n"
          ]
        }
      ]
    },
    {
      "cell_type": "code",
      "source": [
        "l1 = [1,2,3,4,5,2,3,6,7,4,7,8,8]\n",
        "s1 = set(l1)\n",
        "print(l1)\n",
        "print(s1)"
      ],
      "metadata": {
        "colab": {
          "base_uri": "https://localhost:8080/"
        },
        "id": "sSEt3Xtz70kH",
        "outputId": "7434767a-0be8-4000-d915-b1ab0a4098c7"
      },
      "execution_count": null,
      "outputs": [
        {
          "output_type": "stream",
          "name": "stdout",
          "text": [
            "[1, 2, 3, 4, 5, 2, 3, 6, 7, 4, 7, 8, 8]\n",
            "{1, 2, 3, 4, 5, 6, 7, 8}\n"
          ]
        }
      ]
    },
    {
      "cell_type": "code",
      "source": [
        "seawhale = '''Whales are a widely distributed and diverse group of fully aquatic placental marine mammals. As an informal and colloquial grouping, they correspond to large members of the infraorder Cetacea, i.e. all cetaceans apart from dolphins and porpoises. Dolphins and porpoises may be considered whales from a formal, cladistic perspective. Whales, dolphins and porpoises belong to the order Cetartiodactyla, which consists of even-toed ungulates. Their closest non-cetacean living relatives are the hippopotamuses, from which they and other cetaceans diverged about 54 million years ago. The two parvorders of whales, baleen whales (Mysticeti) and toothed whales (Odontoceti), are thought to have had their last common ancestor around 34 million years ago. Mysticetes include four extant (living) families: Balaenopteridae (the rorquals), Balaenidae (right whales), Cetotheriidae (the pygmy right whale), and Eschrichtiidae (the grey whale). Odontocetes include the Monodontidae (belugas and narwhals), Physeteridae (the sperm whale), Kogiidae (the dwarf and pygmy sperm whale), and Ziphiidae (the beaked whales), as well as the six families of dolphins and porpoises which are not considered whales in the informal sense.\n",
        "\n",
        "Whales are fully aquatic, open-ocean creatures: they can feed, mate, give birth, suckle and raise their young at sea. In opposite to most animals, they can drink salt water, although they prefer water coming from their food.[2] Whales range in size from the 2.6 metres (8.5 ft) and 135 kilograms (298 lb) dwarf sperm whale to the 29.9 metres (98 ft) and 190 tonnes (210 short tons) blue whale, which is the largest known animal that has ever lived. The sperm whale is the largest toothed predator on Earth. Several whale species exhibit sexual dimorphism, in that the females are larger than males.\n",
        "\n",
        "Baleen whales have no teeth; instead they have plates of baleen, fringe-like structures that enable them to expel the huge mouthfuls of water they take in, while retaining the krill and plankton they feed on. Because their heads are enormous—making up as much as 40% of their total body mass—and they have throat pleats that enable them to expand their mouths, they are able to take huge quantities of water into their mouth at a time. Baleen whales also have a well developed sense of smell.\n",
        "\n",
        "Toothed whales, in contrast, have conical teeth adapted to catching fish or squid. They also have such keen hearing—whether above or below the surface of the water—that some can survive even if they are blind. Some species, such as sperm whales, are particularly well adapted for diving to great depths to catch squid and other favoured prey.\n",
        "\n",
        "Whales evolved from land-living mammals, and must regularly surface to breathe air, although they can remain under water for long periods of time. Some species, such as the sperm whale, can stay underwater for up to 90 minutes [3] They have blowholes (modified nostrils) located on top of their heads, through which air is taken in and expelled. They are warm-blooded, and have a layer of fat, or blubber, under the skin. With streamlined fusiform bodies and two limbs that are modified into flippers, whales can travel at speeds of up to 20 knots, though they are not as flexible or agile as seals. Whales produce a great variety of vocalizations, notably the extended songs of the humpback whale. Although whales are widespread, most species prefer the colder waters of the northern and southern hemispheres, and migrate to the equator to give birth. Species such as humpbacks and blue whales are capable of travelling thousands of miles without feeding. Males typically mate with multiple females every year, but females only mate every two to three years. Calves are typically born in the spring and summer; females bear all the responsibility for raising them. Mothers in some species fast and nurse their young for one to two years.\n",
        "\n",
        "Once relentlessly hunted for their products, whales are now protected by international law. The North Atlantic right whales nearly became extinct in the twentieth century, with a population low of 450, and the North Pacific grey whale population is ranked Critically Endangered by the IUCN. Besides the threat from whalers, they also face threats from bycatch and marine pollution. The meat, blubber and baleen of whales have traditionally been used by indigenous peoples of the Arctic. Whales have been depicted in various cultures worldwide, notably by the Inuit and the coastal peoples of Vietnam and Ghana, who sometimes hold whale funerals. Whales occasionally feature in literature and film. A famous example is the great white whale in Herman Melville's novel Moby Dick. Small whales, such as belugas, are sometimes kept in captivity and trained to perform tricks, but breeding success has been poor and the animals often die within a few months of capture. Whale watching has become a form of tourism around the world.'''"
      ],
      "metadata": {
        "id": "OP63IBbc8UcV"
      },
      "execution_count": null,
      "outputs": []
    },
    {
      "cell_type": "code",
      "source": [
        "s = seawhale.split(' ')\n",
        "print(s)"
      ],
      "metadata": {
        "colab": {
          "base_uri": "https://localhost:8080/"
        },
        "id": "vx-h7u9o8rIV",
        "outputId": "f522c0f7-d931-412d-a320-9b12c4d2bf87"
      },
      "execution_count": null,
      "outputs": [
        {
          "output_type": "stream",
          "name": "stdout",
          "text": [
            "['Whales', 'are', 'a', 'widely', 'distributed', 'and', 'diverse', 'group', 'of', 'fully', 'aquatic', 'placental', 'marine', 'mammals.', 'As', 'an', 'informal', 'and', 'colloquial', 'grouping,', 'they', 'correspond', 'to', 'large', 'members', 'of', 'the', 'infraorder', 'Cetacea,', 'i.e.', 'all', 'cetaceans', 'apart', 'from', 'dolphins', 'and', 'porpoises.', 'Dolphins', 'and', 'porpoises', 'may', 'be', 'considered', 'whales', 'from', 'a', 'formal,', 'cladistic', 'perspective.', 'Whales,', 'dolphins', 'and', 'porpoises', 'belong', 'to', 'the', 'order', 'Cetartiodactyla,', 'which', 'consists', 'of', 'even-toed', 'ungulates.', 'Their', 'closest', 'non-cetacean', 'living', 'relatives', 'are', 'the', 'hippopotamuses,', 'from', 'which', 'they', 'and', 'other', 'cetaceans', 'diverged', 'about', '54', 'million', 'years', 'ago.', 'The', 'two', 'parvorders', 'of', 'whales,', 'baleen', 'whales', '(Mysticeti)', 'and', 'toothed', 'whales', '(Odontoceti),', 'are', 'thought', 'to', 'have', 'had', 'their', 'last', 'common', 'ancestor', 'around', '34', 'million', 'years', 'ago.', 'Mysticetes', 'include', 'four', 'extant', '(living)', 'families:', 'Balaenopteridae', '(the', 'rorquals),', 'Balaenidae', '(right', 'whales),', 'Cetotheriidae', '(the', 'pygmy', 'right', 'whale),', 'and', 'Eschrichtiidae', '(the', 'grey', 'whale).', 'Odontocetes', 'include', 'the', 'Monodontidae', '(belugas', 'and', 'narwhals),', 'Physeteridae', '(the', 'sperm', 'whale),', 'Kogiidae', '(the', 'dwarf', 'and', 'pygmy', 'sperm', 'whale),', 'and', 'Ziphiidae', '(the', 'beaked', 'whales),', 'as', 'well', 'as', 'the', 'six', 'families', 'of', 'dolphins', 'and', 'porpoises', 'which', 'are', 'not', 'considered', 'whales', 'in', 'the', 'informal', 'sense.\\n\\nWhales', 'are', 'fully', 'aquatic,', 'open-ocean', 'creatures:', 'they', 'can', 'feed,', 'mate,', 'give', 'birth,', 'suckle', 'and', 'raise', 'their', 'young', 'at', 'sea.', 'In', 'opposite', 'to', 'most', 'animals,', 'they', 'can', 'drink', 'salt', 'water,', 'although', 'they', 'prefer', 'water', 'coming', 'from', 'their', 'food.[2]', 'Whales', 'range', 'in', 'size', 'from', 'the', '2.6', 'metres', '(8.5', 'ft)', 'and', '135', 'kilograms', '(298', 'lb)', 'dwarf', 'sperm', 'whale', 'to', 'the', '29.9', 'metres', '(98', 'ft)', 'and', '190', 'tonnes', '(210', 'short', 'tons)', 'blue', 'whale,', 'which', 'is', 'the', 'largest', 'known', 'animal', 'that', 'has', 'ever', 'lived.', 'The', 'sperm', 'whale', 'is', 'the', 'largest', 'toothed', 'predator', 'on', 'Earth.', 'Several', 'whale', 'species', 'exhibit', 'sexual', 'dimorphism,', 'in', 'that', 'the', 'females', 'are', 'larger', 'than', 'males.\\n\\nBaleen', 'whales', 'have', 'no', 'teeth;', 'instead', 'they', 'have', 'plates', 'of', 'baleen,', 'fringe-like', 'structures', 'that', 'enable', 'them', 'to', 'expel', 'the', 'huge', 'mouthfuls', 'of', 'water', 'they', 'take', 'in,', 'while', 'retaining', 'the', 'krill', 'and', 'plankton', 'they', 'feed', 'on.', 'Because', 'their', 'heads', 'are', 'enormous—making', 'up', 'as', 'much', 'as', '40%', 'of', 'their', 'total', 'body', 'mass—and', 'they', 'have', 'throat', 'pleats', 'that', 'enable', 'them', 'to', 'expand', 'their', 'mouths,', 'they', 'are', 'able', 'to', 'take', 'huge', 'quantities', 'of', 'water', 'into', 'their', 'mouth', 'at', 'a', 'time.', 'Baleen', 'whales', 'also', 'have', 'a', 'well', 'developed', 'sense', 'of', 'smell.\\n\\nToothed', 'whales,', 'in', 'contrast,', 'have', 'conical', 'teeth', 'adapted', 'to', 'catching', 'fish', 'or', 'squid.', 'They', 'also', 'have', 'such', 'keen', 'hearing—whether', 'above', 'or', 'below', 'the', 'surface', 'of', 'the', 'water—that', 'some', 'can', 'survive', 'even', 'if', 'they', 'are', 'blind.', 'Some', 'species,', 'such', 'as', 'sperm', 'whales,', 'are', 'particularly', 'well', 'adapted', 'for', 'diving', 'to', 'great', 'depths', 'to', 'catch', 'squid', 'and', 'other', 'favoured', 'prey.\\n\\nWhales', 'evolved', 'from', 'land-living', 'mammals,', 'and', 'must', 'regularly', 'surface', 'to', 'breathe', 'air,', 'although', 'they', 'can', 'remain', 'under', 'water', 'for', 'long', 'periods', 'of', 'time.', 'Some', 'species,', 'such', 'as', 'the', 'sperm', 'whale,', 'can', 'stay', 'underwater', 'for', 'up', 'to', '90', 'minutes', '[3]', 'They', 'have', 'blowholes', '(modified', 'nostrils)', 'located', 'on', 'top', 'of', 'their', 'heads,', 'through', 'which', 'air', 'is', 'taken', 'in', 'and', 'expelled.', 'They', 'are', 'warm-blooded,', 'and', 'have', 'a', 'layer', 'of', 'fat,', 'or', 'blubber,', 'under', 'the', 'skin.', 'With', 'streamlined', 'fusiform', 'bodies', 'and', 'two', 'limbs', 'that', 'are', 'modified', 'into', 'flippers,', 'whales', 'can', 'travel', 'at', 'speeds', 'of', 'up', 'to', '20', 'knots,', 'though', 'they', 'are', 'not', 'as', 'flexible', 'or', 'agile', 'as', 'seals.', 'Whales', 'produce', 'a', 'great', 'variety', 'of', 'vocalizations,', 'notably', 'the', 'extended', 'songs', 'of', 'the', 'humpback', 'whale.', 'Although', 'whales', 'are', 'widespread,', 'most', 'species', 'prefer', 'the', 'colder', 'waters', 'of', 'the', 'northern', 'and', 'southern', 'hemispheres,', 'and', 'migrate', 'to', 'the', 'equator', 'to', 'give', 'birth.', 'Species', 'such', 'as', 'humpbacks', 'and', 'blue', 'whales', 'are', 'capable', 'of', 'travelling', 'thousands', 'of', 'miles', 'without', 'feeding.', 'Males', 'typically', 'mate', 'with', 'multiple', 'females', 'every', 'year,', 'but', 'females', 'only', 'mate', 'every', 'two', 'to', 'three', 'years.', 'Calves', 'are', 'typically', 'born', 'in', 'the', 'spring', 'and', 'summer;', 'females', 'bear', 'all', 'the', 'responsibility', 'for', 'raising', 'them.', 'Mothers', 'in', 'some', 'species', 'fast', 'and', 'nurse', 'their', 'young', 'for', 'one', 'to', 'two', 'years.\\n\\nOnce', 'relentlessly', 'hunted', 'for', 'their', 'products,', 'whales', 'are', 'now', 'protected', 'by', 'international', 'law.', 'The', 'North', 'Atlantic', 'right', 'whales', 'nearly', 'became', 'extinct', 'in', 'the', 'twentieth', 'century,', 'with', 'a', 'population', 'low', 'of', '450,', 'and', 'the', 'North', 'Pacific', 'grey', 'whale', 'population', 'is', 'ranked', 'Critically', 'Endangered', 'by', 'the', 'IUCN.', 'Besides', 'the', 'threat', 'from', 'whalers,', 'they', 'also', 'face', 'threats', 'from', 'bycatch', 'and', 'marine', 'pollution.', 'The', 'meat,', 'blubber', 'and', 'baleen', 'of', 'whales', 'have', 'traditionally', 'been', 'used', 'by', 'indigenous', 'peoples', 'of', 'the', 'Arctic.', 'Whales', 'have', 'been', 'depicted', 'in', 'various', 'cultures', 'worldwide,', 'notably', 'by', 'the', 'Inuit', 'and', 'the', 'coastal', 'peoples', 'of', 'Vietnam', 'and', 'Ghana,', 'who', 'sometimes', 'hold', 'whale', 'funerals.', 'Whales', 'occasionally', 'feature', 'in', 'literature', 'and', 'film.', 'A', 'famous', 'example', 'is', 'the', 'great', 'white', 'whale', 'in', 'Herman', \"Melville's\", 'novel', 'Moby', 'Dick.', 'Small', 'whales,', 'such', 'as', 'belugas,', 'are', 'sometimes', 'kept', 'in', 'captivity', 'and', 'trained', 'to', 'perform', 'tricks,', 'but', 'breeding', 'success', 'has', 'been', 'poor', 'and', 'the', 'animals', 'often', 'die', 'within', 'a', 'few', 'months', 'of', 'capture.', 'Whale', 'watching', 'has', 'become', 'a', 'form', 'of', 'tourism', 'around', 'the', 'world.']\n"
          ]
        }
      ]
    },
    {
      "cell_type": "code",
      "source": [
        "s2 = [i.replace(',','') for i in s]\n",
        "print(s2)\n",
        "set2 = set(s2)\n",
        "print(set2)\n",
        "\n",
        "stopword2 = {'and','the', 'as', 'well', 'of','not','in','may','know'}\n",
        "newset = set2 - stopword2\n",
        "print(newset)"
      ],
      "metadata": {
        "colab": {
          "base_uri": "https://localhost:8080/"
        },
        "id": "VKAjtIXB85lY",
        "outputId": "90a4cff8-aa1e-40ae-eda8-a085fd51845a"
      },
      "execution_count": null,
      "outputs": [
        {
          "output_type": "stream",
          "name": "stdout",
          "text": [
            "['Whales', 'are', 'a', 'widely', 'distributed', 'and', 'diverse', 'group', 'of', 'fully', 'aquatic', 'placental', 'marine', 'mammals.', 'As', 'an', 'informal', 'and', 'colloquial', 'grouping', 'they', 'correspond', 'to', 'large', 'members', 'of', 'the', 'infraorder', 'Cetacea', 'i.e.', 'all', 'cetaceans', 'apart', 'from', 'dolphins', 'and', 'porpoises.', 'Dolphins', 'and', 'porpoises', 'may', 'be', 'considered', 'whales', 'from', 'a', 'formal', 'cladistic', 'perspective.', 'Whales', 'dolphins', 'and', 'porpoises', 'belong', 'to', 'the', 'order', 'Cetartiodactyla', 'which', 'consists', 'of', 'even-toed', 'ungulates.', 'Their', 'closest', 'non-cetacean', 'living', 'relatives', 'are', 'the', 'hippopotamuses', 'from', 'which', 'they', 'and', 'other', 'cetaceans', 'diverged', 'about', '54', 'million', 'years', 'ago.', 'The', 'two', 'parvorders', 'of', 'whales', 'baleen', 'whales', '(Mysticeti)', 'and', 'toothed', 'whales', '(Odontoceti)', 'are', 'thought', 'to', 'have', 'had', 'their', 'last', 'common', 'ancestor', 'around', '34', 'million', 'years', 'ago.', 'Mysticetes', 'include', 'four', 'extant', '(living)', 'families:', 'Balaenopteridae', '(the', 'rorquals)', 'Balaenidae', '(right', 'whales)', 'Cetotheriidae', '(the', 'pygmy', 'right', 'whale)', 'and', 'Eschrichtiidae', '(the', 'grey', 'whale).', 'Odontocetes', 'include', 'the', 'Monodontidae', '(belugas', 'and', 'narwhals)', 'Physeteridae', '(the', 'sperm', 'whale)', 'Kogiidae', '(the', 'dwarf', 'and', 'pygmy', 'sperm', 'whale)', 'and', 'Ziphiidae', '(the', 'beaked', 'whales)', 'as', 'well', 'as', 'the', 'six', 'families', 'of', 'dolphins', 'and', 'porpoises', 'which', 'are', 'not', 'considered', 'whales', 'in', 'the', 'informal', 'sense.\\n\\nWhales', 'are', 'fully', 'aquatic', 'open-ocean', 'creatures:', 'they', 'can', 'feed', 'mate', 'give', 'birth', 'suckle', 'and', 'raise', 'their', 'young', 'at', 'sea.', 'In', 'opposite', 'to', 'most', 'animals', 'they', 'can', 'drink', 'salt', 'water', 'although', 'they', 'prefer', 'water', 'coming', 'from', 'their', 'food.[2]', 'Whales', 'range', 'in', 'size', 'from', 'the', '2.6', 'metres', '(8.5', 'ft)', 'and', '135', 'kilograms', '(298', 'lb)', 'dwarf', 'sperm', 'whale', 'to', 'the', '29.9', 'metres', '(98', 'ft)', 'and', '190', 'tonnes', '(210', 'short', 'tons)', 'blue', 'whale', 'which', 'is', 'the', 'largest', 'known', 'animal', 'that', 'has', 'ever', 'lived.', 'The', 'sperm', 'whale', 'is', 'the', 'largest', 'toothed', 'predator', 'on', 'Earth.', 'Several', 'whale', 'species', 'exhibit', 'sexual', 'dimorphism', 'in', 'that', 'the', 'females', 'are', 'larger', 'than', 'males.\\n\\nBaleen', 'whales', 'have', 'no', 'teeth;', 'instead', 'they', 'have', 'plates', 'of', 'baleen', 'fringe-like', 'structures', 'that', 'enable', 'them', 'to', 'expel', 'the', 'huge', 'mouthfuls', 'of', 'water', 'they', 'take', 'in', 'while', 'retaining', 'the', 'krill', 'and', 'plankton', 'they', 'feed', 'on.', 'Because', 'their', 'heads', 'are', 'enormous—making', 'up', 'as', 'much', 'as', '40%', 'of', 'their', 'total', 'body', 'mass—and', 'they', 'have', 'throat', 'pleats', 'that', 'enable', 'them', 'to', 'expand', 'their', 'mouths', 'they', 'are', 'able', 'to', 'take', 'huge', 'quantities', 'of', 'water', 'into', 'their', 'mouth', 'at', 'a', 'time.', 'Baleen', 'whales', 'also', 'have', 'a', 'well', 'developed', 'sense', 'of', 'smell.\\n\\nToothed', 'whales', 'in', 'contrast', 'have', 'conical', 'teeth', 'adapted', 'to', 'catching', 'fish', 'or', 'squid.', 'They', 'also', 'have', 'such', 'keen', 'hearing—whether', 'above', 'or', 'below', 'the', 'surface', 'of', 'the', 'water—that', 'some', 'can', 'survive', 'even', 'if', 'they', 'are', 'blind.', 'Some', 'species', 'such', 'as', 'sperm', 'whales', 'are', 'particularly', 'well', 'adapted', 'for', 'diving', 'to', 'great', 'depths', 'to', 'catch', 'squid', 'and', 'other', 'favoured', 'prey.\\n\\nWhales', 'evolved', 'from', 'land-living', 'mammals', 'and', 'must', 'regularly', 'surface', 'to', 'breathe', 'air', 'although', 'they', 'can', 'remain', 'under', 'water', 'for', 'long', 'periods', 'of', 'time.', 'Some', 'species', 'such', 'as', 'the', 'sperm', 'whale', 'can', 'stay', 'underwater', 'for', 'up', 'to', '90', 'minutes', '[3]', 'They', 'have', 'blowholes', '(modified', 'nostrils)', 'located', 'on', 'top', 'of', 'their', 'heads', 'through', 'which', 'air', 'is', 'taken', 'in', 'and', 'expelled.', 'They', 'are', 'warm-blooded', 'and', 'have', 'a', 'layer', 'of', 'fat', 'or', 'blubber', 'under', 'the', 'skin.', 'With', 'streamlined', 'fusiform', 'bodies', 'and', 'two', 'limbs', 'that', 'are', 'modified', 'into', 'flippers', 'whales', 'can', 'travel', 'at', 'speeds', 'of', 'up', 'to', '20', 'knots', 'though', 'they', 'are', 'not', 'as', 'flexible', 'or', 'agile', 'as', 'seals.', 'Whales', 'produce', 'a', 'great', 'variety', 'of', 'vocalizations', 'notably', 'the', 'extended', 'songs', 'of', 'the', 'humpback', 'whale.', 'Although', 'whales', 'are', 'widespread', 'most', 'species', 'prefer', 'the', 'colder', 'waters', 'of', 'the', 'northern', 'and', 'southern', 'hemispheres', 'and', 'migrate', 'to', 'the', 'equator', 'to', 'give', 'birth.', 'Species', 'such', 'as', 'humpbacks', 'and', 'blue', 'whales', 'are', 'capable', 'of', 'travelling', 'thousands', 'of', 'miles', 'without', 'feeding.', 'Males', 'typically', 'mate', 'with', 'multiple', 'females', 'every', 'year', 'but', 'females', 'only', 'mate', 'every', 'two', 'to', 'three', 'years.', 'Calves', 'are', 'typically', 'born', 'in', 'the', 'spring', 'and', 'summer;', 'females', 'bear', 'all', 'the', 'responsibility', 'for', 'raising', 'them.', 'Mothers', 'in', 'some', 'species', 'fast', 'and', 'nurse', 'their', 'young', 'for', 'one', 'to', 'two', 'years.\\n\\nOnce', 'relentlessly', 'hunted', 'for', 'their', 'products', 'whales', 'are', 'now', 'protected', 'by', 'international', 'law.', 'The', 'North', 'Atlantic', 'right', 'whales', 'nearly', 'became', 'extinct', 'in', 'the', 'twentieth', 'century', 'with', 'a', 'population', 'low', 'of', '450', 'and', 'the', 'North', 'Pacific', 'grey', 'whale', 'population', 'is', 'ranked', 'Critically', 'Endangered', 'by', 'the', 'IUCN.', 'Besides', 'the', 'threat', 'from', 'whalers', 'they', 'also', 'face', 'threats', 'from', 'bycatch', 'and', 'marine', 'pollution.', 'The', 'meat', 'blubber', 'and', 'baleen', 'of', 'whales', 'have', 'traditionally', 'been', 'used', 'by', 'indigenous', 'peoples', 'of', 'the', 'Arctic.', 'Whales', 'have', 'been', 'depicted', 'in', 'various', 'cultures', 'worldwide', 'notably', 'by', 'the', 'Inuit', 'and', 'the', 'coastal', 'peoples', 'of', 'Vietnam', 'and', 'Ghana', 'who', 'sometimes', 'hold', 'whale', 'funerals.', 'Whales', 'occasionally', 'feature', 'in', 'literature', 'and', 'film.', 'A', 'famous', 'example', 'is', 'the', 'great', 'white', 'whale', 'in', 'Herman', \"Melville's\", 'novel', 'Moby', 'Dick.', 'Small', 'whales', 'such', 'as', 'belugas', 'are', 'sometimes', 'kept', 'in', 'captivity', 'and', 'trained', 'to', 'perform', 'tricks', 'but', 'breeding', 'success', 'has', 'been', 'poor', 'and', 'the', 'animals', 'often', 'die', 'within', 'a', 'few', 'months', 'of', 'capture.', 'Whale', 'watching', 'has', 'become', 'a', 'form', 'of', 'tourism', 'around', 'the', 'world.']\n",
            "{'than', 'narwhals)', 'responsibility', 'Mysticetes', 'Endangered', 'speeds', 'produce', 'Eschrichtiidae', 'fast', 'Besides', 'raising', 'order', 'breeding', 'Whales', 'Balaenopteridae', 'females', 'Atlantic', 'pygmy', 'tonnes', 'in', 'that', 'even-toed', 'blue', 'prey.\\n\\nWhales', 'conical', 'modified', 'whales', 'for', 'colder', 'tourism', 'vocalizations', 'Because', 'fusiform', '(living)', 'They', 'all', 'example', 'tons)', 'became', 'travelling', 'Balaenidae', 'depicted', 'year', 'coastal', 'extant', 'favoured', 'birth.', 'relatives', 'Monodontidae', 'able', 'Baleen', 'their', 'Cetartiodactyla', 'breathe', 'meat', 'formal', '34', 'variety', 'non-cetacean', 'cultures', 'various', 'ever', 'notably', '54', 'total', 'mammals', 'now', 'beaked', 'time.', '(Mysticeti)', 'indigenous', 'Although', 'young', '2.6', 'common', 'pollution.', 'surface', 'Their', 'nearly', 'captivity', 'Small', 'animal', 'In', 'also', 'mammals.', 'infraorder', 'members', 'ancestor', 'an', 'larger', 'kilograms', 'underwater', 'from', 'population', 'plates', 'porpoises', 'raise', 'fat', 'film.', 'instead', 'include', 'last', 'southern', 'into', 'traditionally', 'diverse', 'as', 'toothed', 'remain', 'four', 'widely', 'A', 'widespread', 'Odontocetes', 'belugas', 'Earth.', 'capture.', 'thousands', 'million', 'Ziphiidae', 'group', 'songs', 'though', 'tricks', 'twentieth', 'cetaceans', 'waters', 'baleen', 'thought', 'summer;', 'by', 'birth', 'IUCN.', 'regularly', 'which', 'on.', 'open-ocean', 'top', 'whale).', '(right', 'watching', 'travel', 'enormous—making', 'creatures:', 'largest', 'years.\\n\\nOnce', 'only', '135', 'water—that', 'two', 'form', 'long', 'squid', 'Pacific', 'few', 'skin.', 'dwarf', 'at', 'mouths', 'of', 'Vietnam', 'range', 'about', 'ungulates.', 'bycatch', '(298', 'catch', 'flippers', 'nurse', 'extinct', 'poor', '190', 'can', 'mass—and', 'lived.', 'whalers', 'often', 'great', 'huge', 'warm-blooded', 'blubber', 'depths', 'sense.\\n\\nWhales', '40%', 'low', 'feeding.', 'families:', 'dolphins', 'novel', 'one', 'right', 'kept', 'on', 'typically', 'Cetacea', 'such', 'parvorders', 'The', 'drink', 'is', 'closest', 'Herman', 'rorquals)', 'most', 'protected', 'Kogiidae', 'hold', 'squid.', 'no', 'three', 'limbs', 'occasionally', 'krill', 'humpbacks', 'known', 'blind.', 'around', 'teeth', 'born', 'miles', 'humpback', 'a', 'exhibit', '[3]', 'Species', 'land-living', 'Dick.', 'mouth', 'under', 'flexible', 'up', 'capable', 'correspond', 'diverged', 'below', 'Whale', 'six', 'feed', 'spring', 'fully', 'Calves', 'sea.', 'sperm', 'Moby', 'every', 'sense', 'equator', 'minutes', '(the', 'with', 'developed', 'apart', 'even', 'through', 'considered', 'size', 'success', 'whale', 'some', 'Cetotheriidae', '20', 'migrate', 'enable', 'Males', 'cladistic', 'opposite', 'lb)', 'teeth;', 'face', 'sometimes', 'or', 'international', 'consists', 'be', '(Odontoceti)', 'porpoises.', 'world.', 'water', '(modified', 'used', 'grey', 'much', 'coming', 'become', 'dimorphism', 'fish', 'Inuit', 'adapted', 'law.', 'quantities', 'ago.', 'grouping', 'well', 'the', 'whale.', 'above', 'although', 'without', 'living', 'other', 'Several', 'heads', 'blowholes', '(210', 'has', 'hearing—whether', 'periods', 'survive', 'must', 'agile', 'catching', 'Critically', 'ft)', 'take', 'smell.\\n\\nToothed', 'suckle', 'mate', 'hunted', 'expelled.', 'colloquial', 'salt', '(98', 'hemispheres', 'perspective.', 'With', 'sexual', 'body', 'to', 'trained', 'years', 'them.', 'them', 'ranked', 'belong', 'animals', 'males.\\n\\nBaleen', 'mouthfuls', 'not', 'i.e.', 'bodies', 'famous', 'streamlined', 'nostrils)', 'relentlessly', 'structures', 'Arctic.', 'Mothers', 'bear', 'placental', 'multiple', 'predator', 'funerals.', 'northern', 'throat', 'short', 'peoples', 'products', 'had', 'they', 'Ghana', 'hippopotamuses', 'diving', 'perform', 'layer', 'expel', 'die', '90', 'whales)', 'stay', 'contrast', 'have', 'pleats', 'air', 'aquatic', 'but', 'who', 'families', 'marine', '(belugas', 'fringe-like', 'century', 'are', 'plankton', 'species', 'may', 'threats', 'been', 'evolved', 'informal', '450', '(8.5', 'located', 'food.[2]', 'white', \"Melville's\", 'seals.', '29.9', 'worldwide', 'particularly', 'threat', 'prefer', 'retaining', 'extended', 'months', 'knots', 'while', 'feature', 'metres', 'expand', 'Dolphins', 'if', 'within', 'North', 'Some', 'give', 'whale)', 'Physeteridae', 'large', 'distributed', 'years.', 'literature', 'taken', 'keen', 'As', 'and'}\n",
            "{'than', 'narwhals)', 'responsibility', 'Mysticetes', '[3]', 'Species', 'Endangered', 'land-living', 'Dick.', 'mouth', 'under', 'flexible', 'speeds', 'up', 'capable', 'produce', 'Eschrichtiidae', 'fast', 'Besides', 'raising', 'order', 'correspond', 'diverged', 'below', 'breeding', 'Whale', 'six', 'Whales', 'Balaenopteridae', 'females', 'Atlantic', 'feed', 'spring', 'pygmy', 'a', 'tonnes', 'fully', 'that', 'Calves', 'sea.', 'even-toed', 'sperm', 'Moby', 'every', 'blue', 'prey.\\n\\nWhales', 'sense', 'conical', 'modified', 'equator', 'minutes', '(the', 'whales', 'for', 'with', 'developed', 'apart', 'colder', 'tourism', 'vocalizations', 'Because', 'even', 'through', 'fusiform', '(living)', 'considered', 'size', 'They', 'all', 'example', 'tons)', 'success', 'whale', 'some', 'became', 'travelling', 'Balaenidae', 'Cetotheriidae', '20', 'depicted', 'migrate', 'enable', 'year', 'Males', 'coastal', 'cladistic', 'extant', 'opposite', 'favoured', 'birth.', 'relatives', 'Monodontidae', 'able', 'Baleen', 'lb)', 'teeth;', 'their', 'Cetartiodactyla', 'face', 'breathe', 'meat', 'sometimes', 'or', 'international', 'formal', '34', 'consists', 'be', 'variety', '(Odontoceti)', 'porpoises.', 'world.', 'water', '(modified', 'used', 'non-cetacean', 'cultures', 'various', 'ever', 'grey', 'notably', '54', 'total', 'mammals', 'now', 'much', 'beaked', 'coming', 'become', 'time.', '(Mysticeti)', 'indigenous', 'Although', 'dimorphism', 'fish', 'Inuit', 'adapted', 'law.', 'quantities', 'ago.', 'grouping', 'young', '2.6', 'common', 'pollution.', 'whale.', 'surface', 'Their', 'nearly', 'captivity', 'Small', 'above', 'animal', 'although', 'without', 'In', 'also', 'mammals.', 'infraorder', 'living', 'members', 'other', 'Several', 'heads', 'ancestor', 'blowholes', '(210', 'has', 'an', 'hearing—whether', 'larger', 'periods', 'survive', 'kilograms', 'must', 'underwater', 'agile', 'catching', 'from', 'population', 'plates', 'Critically', 'ft)', 'take', 'porpoises', 'smell.\\n\\nToothed', 'raise', 'fat', 'film.', 'instead', 'suckle', 'include', 'last', 'mate', 'southern', 'hunted', 'into', 'expelled.', 'colloquial', 'salt', '(98', 'traditionally', 'diverse', 'hemispheres', 'perspective.', 'With', 'sexual', 'toothed', 'body', 'remain', 'to', 'four', 'widely', 'trained', 'A', 'years', 'them.', 'them', 'ranked', 'widespread', 'Odontocetes', 'belong', 'belugas', 'Earth.', 'animals', 'capture.', 'males.\\n\\nBaleen', 'mouthfuls', 'thousands', 'million', 'Ziphiidae', 'group', 'i.e.', 'bodies', 'famous', 'streamlined', 'nostrils)', 'relentlessly', 'songs', 'though', 'tricks', 'twentieth', 'cetaceans', 'structures', 'waters', 'Arctic.', 'Mothers', 'baleen', 'thought', 'summer;', 'bear', 'by', 'birth', 'IUCN.', 'placental', 'regularly', 'multiple', 'which', 'on.', 'predator', 'funerals.', 'open-ocean', 'top', 'northern', 'whale).', '(right', 'watching', 'travel', 'throat', 'enormous—making', 'creatures:', 'largest', 'years.\\n\\nOnce', 'short', 'peoples', 'products', 'had', 'only', '135', 'they', 'water—that', 'Ghana', 'hippopotamuses', 'two', 'diving', 'perform', 'layer', 'form', 'long', 'expel', 'die', 'squid', 'Pacific', 'few', 'skin.', '90', 'whales)', 'dwarf', 'stay', 'at', 'contrast', 'mouths', 'have', 'Vietnam', 'range', 'pleats', 'about', 'ungulates.', 'air', 'aquatic', 'but', 'bycatch', '(298', 'catch', 'flippers', 'nurse', 'extinct', 'who', 'families', 'poor', 'marine', '(belugas', 'fringe-like', '190', 'century', 'are', 'plankton', 'can', 'mass—and', 'lived.', 'whalers', 'species', 'often', 'great', 'huge', 'warm-blooded', 'blubber', 'depths', 'sense.\\n\\nWhales', '40%', 'threats', 'been', 'evolved', 'low', 'feeding.', 'informal', '450', 'families:', '(8.5', 'dolphins', 'novel', 'located', 'food.[2]', 'one', 'right', 'kept', 'white', 'on', \"Melville's\", 'seals.', 'typically', '29.9', 'worldwide', 'Cetacea', 'particularly', 'such', 'threat', 'parvorders', 'prefer', 'retaining', 'The', 'extended', 'months', 'knots', 'while', 'feature', 'drink', 'metres', 'is', 'expand', 'Dolphins', 'closest', 'Herman', 'rorquals)', 'if', 'most', 'protected', 'Kogiidae', 'hold', 'squid.', 'within', 'North', 'no', 'Some', 'give', 'whale)', 'Physeteridae', 'three', 'limbs', 'occasionally', 'large', 'krill', 'distributed', 'humpbacks', 'known', 'blind.', 'years.', 'literature', 'around', 'teeth', 'born', 'taken', 'miles', 'keen', 'As', 'humpback', 'exhibit'}\n"
          ]
        }
      ]
    },
    {
      "cell_type": "markdown",
      "source": [
        "Ex: From your company home page copy \"about\" into a string: key words of company"
      ],
      "metadata": {
        "id": "NR-oVk2-_QV1"
      }
    },
    {
      "cell_type": "markdown",
      "source": [
        "FUNCTIONS CAN HAVE DEFAULT ARGUMENTS CAN BECALLED BY ARGUMNET NAMES TOO"
      ],
      "metadata": {
        "id": "nGdKAM6gDrXd"
      }
    },
    {
      "cell_type": "code",
      "source": [
        "def diff(x,y = 0,z = 0):\n",
        "  return x - (z+y)\n",
        "\n",
        "\n",
        "print(diff(20))\n",
        "print(diff(20,10))\n",
        "print(diff(20,10,5))\n",
        "print(diff(z = 2, y = 10, x = 20))\n",
        "\n"
      ],
      "metadata": {
        "colab": {
          "base_uri": "https://localhost:8080/"
        },
        "id": "ebN-jg-BCxka",
        "outputId": "a32a3827-6977-4f53-d229-c781acd5b77c"
      },
      "execution_count": null,
      "outputs": [
        {
          "output_type": "stream",
          "name": "stdout",
          "text": [
            "20\n",
            "10\n",
            "5\n",
            "8\n"
          ]
        }
      ]
    },
    {
      "cell_type": "code",
      "source": [
        "a = 10\n",
        "b = 20\n",
        "c = 30\n",
        "d = 40\n",
        "print(a)\n",
        "print(a,b)\n",
        "print(a,b,c)"
      ],
      "metadata": {
        "colab": {
          "base_uri": "https://localhost:8080/"
        },
        "id": "gOR_ZAjZD6o9",
        "outputId": "eb93903d-bb53-4bcc-e38e-3023d4958356"
      },
      "execution_count": null,
      "outputs": [
        {
          "output_type": "stream",
          "name": "stdout",
          "text": [
            "10\n",
            "10 20\n",
            "10 20 30\n"
          ]
        }
      ]
    },
    {
      "cell_type": "markdown",
      "source": [
        "Variable number of arguments to the function\n",
        "Write a code to add all the elements passed as parameter to the function add()"
      ],
      "metadata": {
        "id": "Ey2_yb7iErnU"
      }
    },
    {
      "cell_type": "code",
      "source": [
        "def add(a, *v):\n",
        "  s = a\n",
        "  for n in v:\n",
        "    s = s + n\n",
        "  return s\n",
        "\n",
        "\n",
        "print(add(2))\n",
        "print(add(2,3,4,5))\n",
        "print(add(0,7,9,13,40,82))"
      ],
      "metadata": {
        "colab": {
          "base_uri": "https://localhost:8080/"
        },
        "id": "SoTJnCEAEqPy",
        "outputId": "1e1bcd34-88cd-4c57-f7c7-554369a49bd2"
      },
      "execution_count": null,
      "outputs": [
        {
          "output_type": "stream",
          "name": "stdout",
          "text": [
            "2\n",
            "14\n",
            "151\n"
          ]
        }
      ]
    },
    {
      "cell_type": "code",
      "source": [],
      "metadata": {
        "id": "Jta8Y7LNHlOw"
      },
      "execution_count": null,
      "outputs": []
    },
    {
      "cell_type": "markdown",
      "source": [
        "Write a function to add sum of digits in a number\n",
        "345 = 3 + 4 + 5 = 12\n",
        "999 = 27"
      ],
      "metadata": {
        "id": "LDz5YLM9Hqgv"
      }
    },
    {
      "cell_type": "code",
      "source": [
        "def sumdigit(n):\n",
        "\n",
        "  return sum(list(map(lambda i: int(i) * int(i), list(str(n)))))\n",
        "\n",
        "print(sumdigit(12))"
      ],
      "metadata": {
        "colab": {
          "base_uri": "https://localhost:8080/"
        },
        "id": "CKRmtFgmH0vm",
        "outputId": "f9b124b4-0faf-44ec-be85-d1c107992c03"
      },
      "execution_count": null,
      "outputs": [
        {
          "output_type": "stream",
          "name": "stdout",
          "text": [
            "5\n"
          ]
        }
      ]
    },
    {
      "cell_type": "code",
      "source": [
        "n = \"1234\"\n",
        "k = int(n)\n",
        "\n",
        "n2 = list(str(n))\n",
        "n3 = sum(list(map(int, n2)))\n",
        "print(n2)\n",
        "print(n3)"
      ],
      "metadata": {
        "colab": {
          "base_uri": "https://localhost:8080/"
        },
        "id": "L8YE3WvVIQ5E",
        "outputId": "9b4c83c5-b136-44af-8853-ff4a3578f7cd"
      },
      "execution_count": null,
      "outputs": [
        {
          "output_type": "stream",
          "name": "stdout",
          "text": [
            "['1', '2', '3', '4']\n",
            "10\n"
          ]
        }
      ]
    },
    {
      "cell_type": "markdown",
      "source": [
        "MAP-FIlter_Reduce"
      ],
      "metadata": {
        "id": "ZnCXzHqk3J6f"
      }
    },
    {
      "cell_type": "code",
      "source": [
        "def strlen3(s):\n",
        "  return len(s) >= 3\n",
        "\n",
        "strlen3(\"As\")\n"
      ],
      "metadata": {
        "colab": {
          "base_uri": "https://localhost:8080/"
        },
        "id": "rA9tDtYB3OTg",
        "outputId": "ff7e42ef-f233-4132-a967-e615e9897008"
      },
      "execution_count": null,
      "outputs": [
        {
          "output_type": "execute_result",
          "data": {
            "text/plain": [
              "False"
            ]
          },
          "metadata": {},
          "execution_count": 2
        }
      ]
    },
    {
      "cell_type": "code",
      "source": [
        "print(list(filter(strlen3, [\"abdbd\",'ytry','as','th','rgeg'])))"
      ],
      "metadata": {
        "colab": {
          "base_uri": "https://localhost:8080/"
        },
        "id": "MXZx5ENI3qfS",
        "outputId": "e5085189-ad05-4bf3-8b07-1910f21a0072"
      },
      "execution_count": null,
      "outputs": [
        {
          "output_type": "stream",
          "name": "stdout",
          "text": [
            "['abdbd', 'ytry', 'rgeg']\n"
          ]
        }
      ]
    },
    {
      "cell_type": "code",
      "source": [
        "L1 = [\"abdbd\",'ytry','as','th','rgeg']\n",
        "L2 = [s for s in L1 if len(s) >= 3]\n",
        "print(L2)"
      ],
      "metadata": {
        "colab": {
          "base_uri": "https://localhost:8080/"
        },
        "id": "A8SpCCM34i_T",
        "outputId": "9696a72c-997c-410a-ab96-f65e659452a8"
      },
      "execution_count": null,
      "outputs": [
        {
          "output_type": "stream",
          "name": "stdout",
          "text": [
            "['abdbd', 'ytry', 'rgeg']\n"
          ]
        }
      ]
    },
    {
      "cell_type": "markdown",
      "source": [
        "Write a function to determine a number is prime or not.\n",
        "Then filter out all prime number between 1 - 1000\n"
      ],
      "metadata": {
        "id": "Hk_CErpu5KEg"
      }
    },
    {
      "cell_type": "code",
      "source": [
        "def isPrime(n):\n",
        "  for i in range(2,n//2 + 1):\n",
        "    if(n % i == 0):\n",
        "      return False;\n",
        "  return True;\n",
        "\n"
      ],
      "metadata": {
        "id": "CBNAfAg55f7f"
      },
      "execution_count": null,
      "outputs": []
    },
    {
      "cell_type": "code",
      "source": [
        "isPrime(173)"
      ],
      "metadata": {
        "colab": {
          "base_uri": "https://localhost:8080/"
        },
        "id": "xTpWep8-6RMj",
        "outputId": "5510e84c-047d-4716-eb78-87a006d75d53"
      },
      "execution_count": null,
      "outputs": [
        {
          "output_type": "execute_result",
          "data": {
            "text/plain": [
              "True"
            ]
          },
          "metadata": {},
          "execution_count": 14
        }
      ]
    },
    {
      "cell_type": "code",
      "source": [
        "print(list(filter(isPrime, range(2,1001))))"
      ],
      "metadata": {
        "colab": {
          "base_uri": "https://localhost:8080/"
        },
        "id": "1rL-NCU86vnb",
        "outputId": "2b3e74f2-70c9-4d29-f0f7-2d4e71b69d67"
      },
      "execution_count": null,
      "outputs": [
        {
          "output_type": "stream",
          "name": "stdout",
          "text": [
            "[2, 3, 5, 7, 11, 13, 17, 19, 23, 29, 31, 37, 41, 43, 47, 53, 59, 61, 67, 71, 73, 79, 83, 89, 97, 101, 103, 107, 109, 113, 127, 131, 137, 139, 149, 151, 157, 163, 167, 173, 179, 181, 191, 193, 197, 199, 211, 223, 227, 229, 233, 239, 241, 251, 257, 263, 269, 271, 277, 281, 283, 293, 307, 311, 313, 317, 331, 337, 347, 349, 353, 359, 367, 373, 379, 383, 389, 397, 401, 409, 419, 421, 431, 433, 439, 443, 449, 457, 461, 463, 467, 479, 487, 491, 499, 503, 509, 521, 523, 541, 547, 557, 563, 569, 571, 577, 587, 593, 599, 601, 607, 613, 617, 619, 631, 641, 643, 647, 653, 659, 661, 673, 677, 683, 691, 701, 709, 719, 727, 733, 739, 743, 751, 757, 761, 769, 773, 787, 797, 809, 811, 821, 823, 827, 829, 839, 853, 857, 859, 863, 877, 881, 883, 887, 907, 911, 919, 929, 937, 941, 947, 953, 967, 971, 977, 983, 991, 997]\n"
          ]
        }
      ]
    },
    {
      "cell_type": "code",
      "source": [
        "def triple(s):\n",
        "  return s*3"
      ],
      "metadata": {
        "id": "yfo0zdsc78_e"
      },
      "execution_count": null,
      "outputs": []
    },
    {
      "cell_type": "code",
      "source": [
        "list(map(triple, range(5)))"
      ],
      "metadata": {
        "colab": {
          "base_uri": "https://localhost:8080/"
        },
        "id": "yrvZtE4C8CkF",
        "outputId": "da302e76-594c-444f-ddd5-2a3843777f95"
      },
      "execution_count": null,
      "outputs": [
        {
          "output_type": "execute_result",
          "data": {
            "text/plain": [
              "[0, 3, 6, 9, 12]"
            ]
          },
          "metadata": {},
          "execution_count": 19
        }
      ]
    },
    {
      "cell_type": "code",
      "source": [
        "list(map(triple, \"Python\"))"
      ],
      "metadata": {
        "colab": {
          "base_uri": "https://localhost:8080/"
        },
        "id": "52IEhx1-8Jbb",
        "outputId": "6a2bbadf-1961-47f6-ca02-d59b3566e50d"
      },
      "execution_count": null,
      "outputs": [
        {
          "output_type": "execute_result",
          "data": {
            "text/plain": [
              "['PPP', 'yyy', 'ttt', 'hhh', 'ooo', 'nnn']"
            ]
          },
          "metadata": {},
          "execution_count": 20
        }
      ]
    },
    {
      "cell_type": "code",
      "source": [
        "list(map(triple, [\"Python\",\"is\",\"fun\"]))"
      ],
      "metadata": {
        "colab": {
          "base_uri": "https://localhost:8080/"
        },
        "id": "dFPNOrHo8U-y",
        "outputId": "10ef3514-5445-4140-e7f1-dcdaa6319cf2"
      },
      "execution_count": null,
      "outputs": [
        {
          "output_type": "execute_result",
          "data": {
            "text/plain": [
              "['PythonPythonPython', 'isisis', 'funfunfun']"
            ]
          },
          "metadata": {},
          "execution_count": 21
        }
      ]
    },
    {
      "cell_type": "code",
      "source": [
        "def sumit(x,y):\n",
        "  return x + y\n",
        "  "
      ],
      "metadata": {
        "id": "1uhOskhG9-Od"
      },
      "execution_count": null,
      "outputs": []
    },
    {
      "cell_type": "code",
      "source": [
        "from functools import reduce"
      ],
      "metadata": {
        "id": "yzBG8nd4-Rkd"
      },
      "execution_count": null,
      "outputs": []
    },
    {
      "cell_type": "code",
      "source": [
        "reduce(mysum, range(6))"
      ],
      "metadata": {
        "colab": {
          "base_uri": "https://localhost:8080/"
        },
        "id": "y0v3_Iv4-Fho",
        "outputId": "ce3d0d4a-36bf-4654-ea1b-cd9c146b461b"
      },
      "execution_count": null,
      "outputs": [
        {
          "output_type": "execute_result",
          "data": {
            "text/plain": [
              "15"
            ]
          },
          "metadata": {},
          "execution_count": 28
        }
      ]
    },
    {
      "cell_type": "markdown",
      "source": [
        "define few functions like sum(), diff(), prod(), qt(),div()\n",
        "operation('+',a,b)"
      ],
      "metadata": {
        "id": "mnqeXrdwAdpO"
      }
    },
    {
      "cell_type": "code",
      "source": [
        "mysum = sumit"
      ],
      "metadata": {
        "id": "m7r6JI-L_gf0"
      },
      "execution_count": null,
      "outputs": []
    },
    {
      "cell_type": "code",
      "source": [
        "dayname = {k:v for (k,v) in enumerate(['Sun','Mon','Tue'], 1 )}\n",
        "dayname[3]\n"
      ],
      "metadata": {
        "colab": {
          "base_uri": "https://localhost:8080/",
          "height": 36
        },
        "id": "oqmu7ILEENYn",
        "outputId": "71a10091-92c0-4441-87a7-221a0750a1e7"
      },
      "execution_count": null,
      "outputs": [
        {
          "output_type": "execute_result",
          "data": {
            "text/plain": [
              "'Tue'"
            ],
            "application/vnd.google.colaboratory.intrinsic+json": {
              "type": "string"
            }
          },
          "metadata": {},
          "execution_count": 33
        }
      ]
    }
  ]
}